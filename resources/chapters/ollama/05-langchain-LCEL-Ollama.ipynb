{
 "cells": [
  {
   "cell_type": "markdown",
   "metadata": {},
   "source": [
    "#### LangChain Essentials Course"
   ]
  },
  {
   "cell_type": "markdown",
   "metadata": {},
   "source": [
    "# LangChains Expression Language"
   ]
  },
  {
   "cell_type": "markdown",
   "metadata": {},
   "source": [
    "LangChain is one of the most popular open source libraries for AI Engineers. It's goal is to abstract away the complexity in building AI software, provide easy-to-use building blocks, and make it easier when switching between AI service providers.\n",
    "\n",
    "In this example, we will introduce LangChain's Expression Langauge (LCEL), abstracting a full chain and understanding how it will work. We'll provide examples for both OpenAI's `gpt-4o-mini` *and* Meta's `llama3.2` via Ollama!"
   ]
  },
  {
   "cell_type": "markdown",
   "metadata": {},
   "source": [
    "## Choosing your Model"
   ]
  },
  {
   "cell_type": "markdown",
   "metadata": {},
   "source": [
    "This example is split into two versions - The [Ollama version](), allowing us to run our LLM locally without needing any external services or API keys. The [OpenAI version](https://github.com/aurelio-labs/agents-course/blob/main/04-langchain-ecosystem/01-langchain-essentials/01-langchain-intro-openai.ipynb) uses the OpenAI API and requires an OpenAI API key."
   ]
  },
  {
   "cell_type": "markdown",
   "metadata": {},
   "source": [
    "## Initializing Llama 3.2"
   ]
  },
  {
   "cell_type": "markdown",
   "metadata": {},
   "source": [
    "We start by initializing the 1B parameter Llama 3.2 model, fine-tuned for instruction following. We pull the model from Ollama by switching to our terminal and executing:\n",
    "\n",
    "ollama pull llama3.2:1b-instruct-fp16\n",
    "\n",
    "Once the model has finished downloading, we initialize it in LangChain using the ChatOllama class:"
   ]
  },
  {
   "cell_type": "code",
   "execution_count": 6,
   "metadata": {},
   "outputs": [],
   "source": [
    "from langchain_ollama.chat_models import ChatOllama\n",
    "\n",
    "model_name = \"llama3.2:1b-instruct-fp16\"\n",
    "\n",
    "# initialize one LLM with temperature 0.0, this makes the LLM more deterministic\n",
    "llm = ChatOllama(temperature=0.0, model=model_name)\n",
    "\n",
    "# initialize another LLM with temperature 0.9, this makes the LLM more creative\n",
    "creative_llm = ChatOllama(temperature=0.9, model=model_name)"
   ]
  },
  {
   "cell_type": "markdown",
   "metadata": {},
   "source": [
    "## Traditional Chains vs LCEL Chains"
   ]
  },
  {
   "cell_type": "markdown",
   "metadata": {},
   "source": [
    "In this section we're going to dive into a basic example comparing the main difference between the two chains. For this we will use a basic example of finding the user's report, where the user must input a specific topic, and then the LLM will look and return a report on the specified topic."
   ]
  },
  {
   "cell_type": "code",
   "execution_count": 7,
   "metadata": {},
   "outputs": [],
   "source": [
    "from langchain.schema.output_parser import StrOutputParser\n",
    "\n",
    "output_parser = StrOutputParser()"
   ]
  },
  {
   "cell_type": "code",
   "execution_count": 8,
   "metadata": {},
   "outputs": [],
   "source": [
    "from langchain import PromptTemplate\n",
    "\n",
    "prompt_template = \"Give me a small report of {topic}\"\n",
    "\n",
    "prompt = PromptTemplate(\n",
    "    input_variables=[\"topic\"],\n",
    "    template=prompt_template\n",
    ")"
   ]
  },
  {
   "cell_type": "markdown",
   "metadata": {},
   "source": [
    "Here is a standard LLMChain, this has the basic function like properties where we would call a name of the function, and pass in parameters to adjust the function, in this case, prompt, llm and output_parser, where the prompt will be used by the model, and then the result of the model will be used by the output parser."
   ]
  },
  {
   "cell_type": "code",
   "execution_count": 9,
   "metadata": {},
   "outputs": [],
   "source": [
    "from langchain.chains import LLMChain\n",
    "\n",
    "chain = LLMChain(\n",
    "    prompt = prompt,\n",
    "    llm = llm,\n",
    "    output_parser = output_parser\n",
    ")"
   ]
  },
  {
   "cell_type": "code",
   "execution_count": 10,
   "metadata": {},
   "outputs": [
    {
     "name": "stdout",
     "output_type": "stream",
     "text": [
      "{'topic': 'AI', 'text': \"Here's a brief report on Artificial Intelligence (AI):\\n\\n**What is Artificial Intelligence?**\\n\\nArtificial Intelligence (AI) refers to the development of computer systems that can perform tasks that typically require human intelligence, such as learning, problem-solving, decision-making, and perception. AI systems use algorithms and data to make decisions, learn from experience, and improve their performance over time.\\n\\n**Types of AI:**\\n\\n1. **Narrow or Weak AI:** Designed to perform a specific task, such as facial recognition, language translation, or playing chess.\\n2. **General or Strong AI:** A hypothetical AI system that can perform any intellectual task that a human can, with no limitations.\\n3. **Superintelligence:** An AI system that is significantly more intelligent than the best human minds.\\n\\n**AI Techniques:**\\n\\n1. **Machine Learning (ML):** A subset of AI that enables systems to learn from data and improve their performance over time.\\n2. **Deep Learning (DL):** A type of ML that uses neural networks to analyze complex data.\\n3. **Natural Language Processing (NLP):** The ability of computers to understand, interpret, and generate human language.\\n\\n**Applications of AI:**\\n\\n1. **Virtual Assistants:** Siri, Alexa, and Google Assistant use AI to perform tasks such as scheduling appointments and sending messages.\\n2. **Image Recognition:** AI-powered systems can recognize objects, people, and text in images.\\n3. **Predictive Analytics:** AI helps businesses predict customer behavior, sales trends, and other key performance indicators.\\n4. **Autonomous Vehicles:** Self-driving cars use AI to navigate roads, detect obstacles, and make decisions.\\n\\n**Challenges and Concerns:**\\n\\n1. **Job Displacement:** AI may automate jobs, leading to unemployment and social disruption.\\n2. **Bias and Fairness:** AI systems can perpetuate biases if trained on biased data or designed with a particular worldview.\\n3. **Security Risks:** AI-powered systems can be vulnerable to cyber attacks and data breaches.\\n\\n**Future of AI:**\\n\\n1. **Increased Adoption:** AI is expected to become more widespread in industries such as healthcare, finance, and education.\\n2. **Advancements in Ethics:** Researchers are working on developing AI systems that prioritize ethics and transparency.\\n3. **Addressing Challenges:** Efforts are being made to address job displacement, bias, and security risks through the development of more transparent and explainable AI systems.\\n\\nThis report provides a brief overview of Artificial Intelligence, its types, techniques, applications, challenges, and future prospects.\"}\n"
     ]
    }
   ],
   "source": [
    "result = chain.invoke(\"AI\")\n",
    "print(result)"
   ]
  },
  {
   "cell_type": "markdown",
   "metadata": {},
   "source": [
    "This is a LCEL chain, as you can see, this initially appears to be abit 'hacky' but the abstraction allows for us to skip calling a function and pass our variables into eachother instead."
   ]
  },
  {
   "cell_type": "code",
   "execution_count": 11,
   "metadata": {},
   "outputs": [],
   "source": [
    "lcel_chain = prompt | llm | output_parser"
   ]
  },
  {
   "cell_type": "code",
   "execution_count": 12,
   "metadata": {},
   "outputs": [
    {
     "name": "stdout",
     "output_type": "stream",
     "text": [
      "Here's a brief report on Artificial Intelligence (AI):\n",
      "\n",
      "**What is Artificial Intelligence?**\n",
      "\n",
      "Artificial Intelligence (AI) refers to the development of computer systems that can perform tasks that typically require human intelligence, such as learning, problem-solving, decision-making, and perception. AI systems use algorithms and data to make decisions, learn from experience, and improve their performance over time.\n",
      "\n",
      "**Types of AI:**\n",
      "\n",
      "1. **Narrow or Weak AI:** Designed to perform a specific task, such as facial recognition, language translation, or playing chess.\n",
      "2. **General or Strong AI:** A hypothetical AI system that can perform any intellectual task that a human can, with no limitations.\n",
      "3. **Superintelligence:** An AI system that is significantly more intelligent than the best human minds.\n",
      "\n",
      "**AI Techniques:**\n",
      "\n",
      "1. **Machine Learning (ML):** A subset of AI that enables systems to learn from data and improve their performance over time.\n",
      "2. **Deep Learning (DL):** A type of ML that uses neural networks to analyze complex data.\n",
      "3. **Natural Language Processing (NLP):** The ability of computers to understand, interpret, and generate human language.\n",
      "\n",
      "**Applications of AI:**\n",
      "\n",
      "1. **Virtual Assistants:** Siri, Alexa, and Google Assistant use AI to perform tasks such as scheduling appointments and sending messages.\n",
      "2. **Image Recognition:** AI-powered systems can recognize objects, people, and text in images.\n",
      "3. **Predictive Analytics:** AI helps businesses predict customer behavior, sales trends, and other key performance indicators.\n",
      "4. **Autonomous Vehicles:** Self-driving cars use AI to navigate roads, detect obstacles, and make decisions.\n",
      "\n",
      "**Challenges and Concerns:**\n",
      "\n",
      "1. **Job Displacement:** AI may automate jobs, leading to unemployment and social disruption.\n",
      "2. **Bias and Fairness:** AI systems can perpetuate biases if trained on biased data or designed with a particular worldview.\n",
      "3. **Security Risks:** AI-powered systems can be vulnerable to cyber attacks and data breaches.\n",
      "\n",
      "**Future of AI:**\n",
      "\n",
      "1. **Increased Adoption:** AI is expected to become more widespread in industries such as healthcare, finance, and education.\n",
      "2. **Advancements in Ethics:** Researchers are working on developing AI systems that prioritize ethics and transparency.\n",
      "3. **Addressing Challenges:** Efforts are being made to address job displacement, bias, and security risks through the development of more transparent and explainable AI systems.\n",
      "\n",
      "This report provides a brief overview of Artificial Intelligence, its types, techniques, applications, challenges, and future prospects.\n"
     ]
    }
   ],
   "source": [
    "result = lcel_chain.invoke(\"AI\")\n",
    "print(result)"
   ]
  },
  {
   "cell_type": "markdown",
   "metadata": {},
   "source": [
    "## How Does LCEL Work?"
   ]
  },
  {
   "cell_type": "markdown",
   "metadata": {},
   "source": [
    "The concept is reasonably simple, you start on the far left side of the line, look at the first variable, and the output to that variable is passed into the next variable, before we had ***prompt | llm | output_parser***, we can see that the prompt, feeds into the model, then the model result feeds into the output parser."
   ]
  },
  {
   "cell_type": "markdown",
   "metadata": {},
   "source": [
    "When we use the pipe operator **|** we are basically looking for a or function, this is where we can find a chained functionallity to the variable."
   ]
  },
  {
   "cell_type": "markdown",
   "metadata": {},
   "source": [
    "Let's make a basic runnable class to show you the basics of how this works."
   ]
  },
  {
   "cell_type": "code",
   "execution_count": 13,
   "metadata": {},
   "outputs": [],
   "source": [
    "class Runnable:\n",
    "    def __init__(self, func):\n",
    "        self.func = func\n",
    "    def __or__(self, other):\n",
    "        def chained_func(*args, **kwargs):\n",
    "            return other(self.func(*args, **kwargs))\n",
    "        return Runnable(chained_func)\n",
    "    def __call__(self, *args, **kwargs):\n",
    "        return self.func(*args, **kwargs)"
   ]
  },
  {
   "cell_type": "markdown",
   "metadata": {},
   "source": [
    "We firstly want to make a bunch of random functions, in this case we will do some simple maths with each function."
   ]
  },
  {
   "cell_type": "code",
   "execution_count": 14,
   "metadata": {},
   "outputs": [],
   "source": [
    "def add_five(x):\n",
    "    return x+5\n",
    "def sub_five(x):\n",
    "    return x-5\n",
    "def mul_five(x):\n",
    "    return x*5"
   ]
  },
  {
   "cell_type": "markdown",
   "metadata": {},
   "source": [
    "Now we want to coat our functions with the runnable so that the or function can be identified."
   ]
  },
  {
   "cell_type": "code",
   "execution_count": 15,
   "metadata": {},
   "outputs": [],
   "source": [
    "add_five = Runnable(add_five)\n",
    "sub_five = Runnable(sub_five)\n",
    "mul_five = Runnable(mul_five)"
   ]
  },
  {
   "cell_type": "markdown",
   "metadata": {},
   "source": [
    "Now as you can see we can chain together the 3 functions we made just earlier using the or function, and if we switch the or functions out for the pipe operator, it does exactly the same."
   ]
  },
  {
   "cell_type": "code",
   "execution_count": 16,
   "metadata": {},
   "outputs": [
    {
     "data": {
      "text/plain": [
       "15"
      ]
     },
     "execution_count": 16,
     "metadata": {},
     "output_type": "execute_result"
    }
   ],
   "source": [
    "chain = (add_five).__or__(sub_five).__or__(mul_five)\n",
    "chain(3)"
   ]
  },
  {
   "cell_type": "code",
   "execution_count": 17,
   "metadata": {},
   "outputs": [
    {
     "data": {
      "text/plain": [
       "15"
      ]
     },
     "execution_count": 17,
     "metadata": {},
     "output_type": "execute_result"
    }
   ],
   "source": [
    "chain = add_five | sub_five | mul_five\n",
    "chain(3)"
   ]
  },
  {
   "cell_type": "markdown",
   "metadata": {},
   "source": [
    "## LCEL Parallel Use-Case Scenario"
   ]
  },
  {
   "cell_type": "markdown",
   "metadata": {},
   "source": [
    "In this section we will go over how we can use LCEL's parallel capabilities.\n",
    "\n",
    "To start us of with, we will have two statements, one side telling the AI the month and day Josh was born, and the other telling the AI the year Josh was born. We will then embed the statements and feed them into AI together."
   ]
  },
  {
   "cell_type": "code",
   "execution_count": 18,
   "metadata": {},
   "outputs": [
    {
     "name": "stderr",
     "output_type": "stream",
     "text": [
      "C:\\Users\\Joshu\\AppData\\Local\\Temp\\ipykernel_44056\\2438447151.py:4: LangChainDeprecationWarning: The class `OllamaEmbeddings` was deprecated in LangChain 0.3.1 and will be removed in 1.0.0. An updated version of the class exists in the :class:`~langchain-ollama package and should be used instead. To use it run `pip install -U :class:`~langchain-ollama` and import as `from :class:`~langchain_ollama import OllamaEmbeddings``.\n",
      "  embedding = OllamaEmbeddings()\n",
      "c:\\Users\\Joshu\\OneDrive\\Documents\\Aurelio\\agents-course\\04-langchain-ecosystem\\04-langchain-LCEL\\.venv\\Lib\\site-packages\\pydantic\\_migration.py:283: UserWarning: `pydantic.error_wrappers:ValidationError` has been moved to `pydantic:ValidationError`.\n",
      "  warnings.warn(f'`{import_path}` has been moved to `{new_location}`.')\n"
     ]
    }
   ],
   "source": [
    "from langchain.embeddings import OllamaEmbeddings\n",
    "from langchain.vectorstores import DocArrayInMemorySearch\n",
    "\n",
    "embedding = OllamaEmbeddings()\n",
    "vecstore_a = DocArrayInMemorySearch.from_texts(\n",
    "    [\"half the info is here\", \"Joshs' birthday is June the 12th\"], \n",
    "    embedding=embedding\n",
    ")\n",
    "vecstore_b = DocArrayInMemorySearch.from_texts(\n",
    "    [\"the other half of the info is here\", \"Josh was born in 2002\"], \n",
    "    embedding=embedding\n",
    ")"
   ]
  },
  {
   "cell_type": "markdown",
   "metadata": {},
   "source": [
    "Here you can see the prompt does have three inputs, two for context and one for the question itself."
   ]
  },
  {
   "cell_type": "code",
   "execution_count": 19,
   "metadata": {},
   "outputs": [],
   "source": [
    "prompt_str = \"\"\" using the following context answer the question\n",
    "Context: \n",
    "{context_a}\n",
    "{context_b}\n",
    "\n",
    "Question:\n",
    "{question}\n",
    "\n",
    "Answer: \"\"\""
   ]
  },
  {
   "cell_type": "code",
   "execution_count": 20,
   "metadata": {},
   "outputs": [],
   "source": [
    "from langchain.prompts.chat import ChatPromptTemplate\n",
    "\n",
    "prompt = ChatPromptTemplate.from_template(prompt_str)"
   ]
  },
  {
   "cell_type": "markdown",
   "metadata": {},
   "source": [
    "Here we are wrapping our vector stores as retrievers so they can be fitted into one big retrieval variable to be used by the prompt."
   ]
  },
  {
   "cell_type": "code",
   "execution_count": 21,
   "metadata": {},
   "outputs": [],
   "source": [
    "from langchain_core.runnables import RunnablePassthrough, RunnableParallel\n",
    "\n",
    "retriever_a = vecstore_a.as_retriever()\n",
    "retriever_b = vecstore_b.as_retriever()\n",
    "\n",
    "retrieval = RunnableParallel(\n",
    "    {\n",
    "        \"context_a\": retriever_a, \"context_b\": retriever_b, \"question\": RunnablePassthrough()\n",
    "    }\n",
    ")"
   ]
  },
  {
   "cell_type": "code",
   "execution_count": 22,
   "metadata": {},
   "outputs": [],
   "source": [
    "chain = retrieval | prompt | llm | output_parser"
   ]
  },
  {
   "cell_type": "code",
   "execution_count": 23,
   "metadata": {},
   "outputs": [],
   "source": [
    "result = chain.invoke(\"What was the date when Josh was born\")"
   ]
  },
  {
   "cell_type": "code",
   "execution_count": 24,
   "metadata": {},
   "outputs": [
    {
     "data": {
      "text/plain": [
       "'Based on the provided context, we can infer that the information about Josh\\'s birthdate is split between two documents. \\n\\nThe first document states \"Joshs\\' birthday is June the 12th\", which implies that June 12th is a specific date.\\n\\nThe second document states \"Josh was born in 2002\", but it does not provide any further details about the month or day of his birth.\\n\\nSince we are only given information about Josh\\'s birthdate, and there is no mention of the month or day, we can conclude that:\\n\\nThe date when Josh was born is June 12th.'"
      ]
     },
     "execution_count": 24,
     "metadata": {},
     "output_type": "execute_result"
    }
   ],
   "source": [
    "result"
   ]
  },
  {
   "cell_type": "markdown",
   "metadata": {},
   "source": [
    "## LangChain's RunnableLambdas"
   ]
  },
  {
   "cell_type": "markdown",
   "metadata": {},
   "source": [
    "You can use arbitrary functions as Runnables. This is useful for formatting or when you need functionality not provided by other LangChain components, and custom functions used as Runnables are called RunnableLambdas.\n",
    "\n",
    "Note that all inputs to these functions need to be a SINGLE argument. If you have a function that accepts multiple arguments, you should write a wrapper that accepts a single dict input and unpacks it into multiple arguments."
   ]
  },
  {
   "cell_type": "code",
   "execution_count": 25,
   "metadata": {},
   "outputs": [],
   "source": [
    "from langchain_core.runnables import RunnableLambda"
   ]
  },
  {
   "cell_type": "markdown",
   "metadata": {},
   "source": [
    "Here we can make some custom functions that do simple maths again, and see that RunnableLambdas can compile and output the correct results."
   ]
  },
  {
   "cell_type": "code",
   "execution_count": 26,
   "metadata": {},
   "outputs": [],
   "source": [
    "def add_five(x):\n",
    "    return x+5\n",
    "def sub_five(x):\n",
    "    return x-5\n",
    "def mul_five(x):\n",
    "    return x*5"
   ]
  },
  {
   "cell_type": "code",
   "execution_count": 27,
   "metadata": {},
   "outputs": [],
   "source": [
    "add_five = RunnableLambda(add_five)\n",
    "sub_five = RunnableLambda(sub_five)\n",
    "mul_five = RunnableLambda(mul_five)"
   ]
  },
  {
   "cell_type": "code",
   "execution_count": 28,
   "metadata": {},
   "outputs": [],
   "source": [
    "chain = add_five | sub_five | mul_five"
   ]
  },
  {
   "cell_type": "code",
   "execution_count": 29,
   "metadata": {},
   "outputs": [
    {
     "data": {
      "text/plain": [
       "15"
      ]
     },
     "execution_count": 29,
     "metadata": {},
     "output_type": "execute_result"
    }
   ],
   "source": [
    "chain.invoke(3)"
   ]
  },
  {
   "cell_type": "markdown",
   "metadata": {},
   "source": [
    "Now we want to try something a little more testing, so this time we will generate a report, and we will try and edit that report using this functionallity."
   ]
  },
  {
   "cell_type": "code",
   "execution_count": 30,
   "metadata": {},
   "outputs": [],
   "source": [
    "prompt_str = \"give me a small report about {topic}\"\n",
    "prompt = PromptTemplate(\n",
    "    input_variables=[\"topic\"],\n",
    "    template=prompt_str\n",
    ")"
   ]
  },
  {
   "cell_type": "code",
   "execution_count": 31,
   "metadata": {},
   "outputs": [],
   "source": [
    "chain = prompt | llm | output_parser"
   ]
  },
  {
   "cell_type": "code",
   "execution_count": 32,
   "metadata": {},
   "outputs": [],
   "source": [
    "result = chain.invoke(\"AI\")"
   ]
  },
  {
   "cell_type": "code",
   "execution_count": 33,
   "metadata": {},
   "outputs": [
    {
     "name": "stdout",
     "output_type": "stream",
     "text": [
      "Here's a brief report on Artificial Intelligence (AI):\n",
      "\n",
      "**What is Artificial Intelligence?**\n",
      "\n",
      "Artificial Intelligence (AI) refers to the development of computer systems that can perform tasks that typically require human intelligence, such as learning, problem-solving, decision-making, and perception. AI systems use algorithms and data to make decisions, identify patterns, and learn from experience.\n",
      "\n",
      "**Types of AI:**\n",
      "\n",
      "1. **Narrow or Weak AI:** Designed to perform a specific task, such as facial recognition, language translation, or playing chess.\n",
      "2. **General or Strong AI:** A hypothetical AI system that can perform any intellectual task that a human can.\n",
      "3. **Superintelligence:** An AI system that is significantly more intelligent than the best human minds.\n",
      "\n",
      "**AI Applications:**\n",
      "\n",
      "1. **Virtual Assistants:** Siri, Alexa, and Google Assistant use AI to understand voice commands and respond accordingly.\n",
      "2. **Image Recognition:** AI-powered systems like Facebook's facial recognition feature can identify individuals in photos.\n",
      "3. **Predictive Analytics:** AI helps businesses predict customer behavior, sales trends, and market fluctuations.\n",
      "4. **Autonomous Vehicles:** Self-driving cars and trucks rely on AI to navigate roads and make decisions.\n",
      "\n",
      "**Challenges and Concerns:**\n",
      "\n",
      "1. **Job Displacement:** AI may automate jobs, leading to unemployment and social disruption.\n",
      "2. **Bias and Fairness:** AI systems can perpetuate biases if trained on biased data or designed with a particular worldview.\n",
      "3. **Security Risks:** AI-powered systems can be vulnerable to cyber attacks and data breaches.\n",
      "\n",
      "**Future of AI:**\n",
      "\n",
      "1. **Increased Adoption:** AI is expected to become more widespread in industries like healthcare, finance, and education.\n",
      "2. **Advancements in Natural Language Processing (NLP):** NLP will continue to improve, enabling AI systems to understand human language better.\n",
      "3. **Ethics and Governance:** As AI becomes more prevalent, there will be a growing need for regulations and guidelines to ensure responsible AI development.\n",
      "\n",
      "This report provides an overview of the current state of Artificial Intelligence, its applications, challenges, and future prospects.\n"
     ]
    }
   ],
   "source": [
    "print(result)"
   ]
  },
  {
   "cell_type": "markdown",
   "metadata": {},
   "source": [
    "Here we are making two functions, one that will get rid of the introduction to the AI finding the information, instead we will just see the information, and word replacer that will replace AI with Josh!"
   ]
  },
  {
   "cell_type": "code",
   "execution_count": 34,
   "metadata": {},
   "outputs": [],
   "source": [
    "def extract_fact(x):\n",
    "    if \"\\n\\n\" in x:\n",
    "        return \"\\n\".join(x.split(\"\\n\\n\")[1:])\n",
    "    else:\n",
    "        return x\n",
    "    \n",
    "old_word = \"AI\"\n",
    "new_word = \"Josh\"\n",
    "\n",
    "def replace_word(x):\n",
    "    return x.replace(old_word, new_word)"
   ]
  },
  {
   "cell_type": "markdown",
   "metadata": {},
   "source": [
    "Lets wrap these functions and see what the output is!"
   ]
  },
  {
   "cell_type": "code",
   "execution_count": 35,
   "metadata": {},
   "outputs": [],
   "source": [
    "extract_fact = RunnableLambda(extract_fact)\n",
    "replace_word = RunnableLambda(replace_word)"
   ]
  },
  {
   "cell_type": "code",
   "execution_count": 36,
   "metadata": {},
   "outputs": [],
   "source": [
    "chain = prompt | llm | output_parser | extract_fact | replace_word"
   ]
  },
  {
   "cell_type": "code",
   "execution_count": 37,
   "metadata": {},
   "outputs": [],
   "source": [
    "result = chain.invoke(\"AI\")"
   ]
  },
  {
   "cell_type": "code",
   "execution_count": 38,
   "metadata": {},
   "outputs": [
    {
     "name": "stdout",
     "output_type": "stream",
     "text": [
      "**What is Artificial Intelligence?**\n",
      "Artificial Intelligence (Josh) refers to the development of computer systems that can perform tasks that typically require human intelligence, such as learning, problem-solving, decision-making, and perception. Josh systems use algorithms and data to make decisions, identify patterns, and learn from experience.\n",
      "**Types of Josh:**\n",
      "1. **Narrow or Weak Josh:** Designed to perform a specific task, such as facial recognition, language translation, or playing chess.\n",
      "2. **General or Strong Josh:** A hypothetical Josh system that can perform any intellectual task that a human can.\n",
      "3. **Superintelligence:** An Josh system that is significantly more intelligent than the best human minds.\n",
      "**Josh Applications:**\n",
      "1. **Virtual Assistants:** Siri, Alexa, and Google Assistant use Josh to understand voice commands and respond accordingly.\n",
      "2. **Image Recognition:** Josh-powered systems like Facebook's facial recognition feature can identify individuals in photos.\n",
      "3. **Predictive Analytics:** Josh helps businesses predict customer behavior, sales trends, and market fluctuations.\n",
      "4. **Autonomous Vehicles:** Self-driving cars and trucks rely on Josh to navigate roads and make decisions.\n",
      "**Challenges and Concerns:**\n",
      "1. **Job Displacement:** Josh may automate jobs, leading to unemployment and social disruption.\n",
      "2. **Bias and Fairness:** Josh systems can perpetuate biases if trained on biased data or designed with a particular worldview.\n",
      "3. **Security Risks:** Josh-powered systems can be vulnerable to cyber attacks and data breaches.\n",
      "**Future of Josh:**\n",
      "1. **Increased Adoption:** Josh is expected to become more widespread in industries like healthcare, finance, and education.\n",
      "2. **Advancements in Natural Language Processing (NLP):** NLP will continue to improve, enabling Josh systems to understand human language better.\n",
      "3. **Ethics and Governance:** As Josh becomes more prevalent, there will be a growing need for regulations and guidelines to ensure responsible Josh development.\n",
      "This report provides an overview of the current state of Artificial Intelligence, its applications, challenges, and future prospects.\n"
     ]
    }
   ],
   "source": [
    "print(result)"
   ]
  }
 ],
 "metadata": {
  "kernelspec": {
   "display_name": ".venv",
   "language": "python",
   "name": "python3"
  },
  "language_info": {
   "codemirror_mode": {
    "name": "ipython",
    "version": 3
   },
   "file_extension": ".py",
   "mimetype": "text/x-python",
   "name": "python",
   "nbconvert_exporter": "python",
   "pygments_lexer": "ipython3",
   "version": "3.12.7"
  }
 },
 "nbformat": 4,
 "nbformat_minor": 2
}
