{
 "cells": [
  {
   "cell_type": "markdown",
   "metadata": {},
   "source": [
    "# SerpAPI Tool Helper"
   ]
  },
  {
   "cell_type": "markdown",
   "metadata": {},
   "source": [
    "This notebook provides a quick rundown of how we construct an async SerpAPI tool. Let's start by query SerpAPI synchronously via their Python SDK:"
   ]
  },
  {
   "cell_type": "code",
   "execution_count": 1,
   "metadata": {},
   "outputs": [
    {
     "name": "stdout",
     "output_type": "stream",
     "text": [
      "{'search_metadata': {'id': '67b710167f8cfafec4555f5e', 'status': 'Success', 'json_endpoint': 'https://serpapi.com/searches/df525ec4c5100a05/67b710167f8cfafec4555f5e.json', 'created_at': '2025-02-20 11:20:54 UTC', 'processed_at': '2025-02-20 11:20:54 UTC', 'google_url': 'https://www.google.com/search?q=latest+news+in+the+world&oq=latest+news+in+the+world&sourceid=chrome&ie=UTF-8', 'raw_html_file': 'https://serpapi.com/searches/df525ec4c5100a05/67b710167f8cfafec4555f5e.html', 'total_time_taken': 0.47}, 'search_parameters': {'engine': 'google', 'q': 'latest news in the world', 'google_domain': 'google.com', 'device': 'desktop'}, 'search_information': {'query_displayed': 'latest news in the world', 'total_results': 6570000000, 'time_taken_displayed': 0.27, 'organic_results_state': 'Results for exact spelling'}, 'related_questions': [{'question': 'What is the trending news in the world now?', 'snippet': None, 'title': 'World', 'link': 'https://www.cnn.com/world', 'list': ['More than 150 whales are stranded off the coast of Tasmania.', \"Pope Francis has pneumonia in both lungs as tests show 'complex picture,' Vatican says.\", 'US and Russia to appoint teams to negotiate end of Ukraine war in talks that excluded Kyiv.'], 'displayed_link': 'https://www.cnn.com › world', 'next_page_token': 'eyJvbnMiOiIxMDA0MSIsImZjIjoiRXFFQkNtSkJRUzFMVkdoa1lqSlllREZzTW14cU4wSXliVm81VUc1SmNWODJRWEE0Y0VwbGRXUkdkRFJvYkRaV1RuVnRVbXQ0Wld4WFduQnViV3hwY25kNVIwRlVhWE5JVGxwSmNrNXpTVVZoUW5WSk1uTTVlV28xU2pkSFdXc3dOVlp1TjBSQlFSSVhSbWhETTFvMlJGSk5ja3R2TlU1dlVHMUtkaTB5UVRnYUlrRkRSRmhNTkcxUlVqVmlWRlJtV2tVMU5IbFBSbTF6WVdRMU9UTndVR1J3YUdjIiwiZmN2IjoiMyIsImVpIjoiRmhDM1o2RFJNcktvNU5vUG1Kdi0yQTgiLCJxYyI6IkNoaHNZWFJsYzNRZ2JtVjNjeUJwYmlCMGFHVWdkMjl5YkdRUUFERUFBQUJBM3JmSFAzMWVremdfIiwicXVlc3Rpb24iOiJXaGF0IGlzIHRoZSB0cmVuZGluZyBuZXdzIGluIHRoZSB3b3JsZCBub3c/IiwibGsiOiJjNVBTS3M5SUxGSElMRllveVVoVktDbEt6VXZKekV0WHlFc3RMMWJJekFNTGx1Y1g1YVFvNU9XWEF3QSIsImJzIjoiYy1PSzQ5SU96MGdzVWNnc1ZpakpTRlVvS1VyTlM4bk1TMWZJU3kwdlZzak1Bd3VXNXhmbHBDams1WmZiUzh5ck05S1IwaW9uV2dkWEFKY0syUHpFb2xTSTh2d0NCVU1EaFl6VXhKU2N6THhVb0JuNUtZbVY5aExkaFVhcVVzcmxoSlZ5WlhFWm9waVlrMWlTV2x5aWtGeGFCSFFKVURndExUR3pDTlVsOWhLZGtVWkdVZ2JsSk9yalN1RFNRUTZkalB3U3NCNmd5ektUWVNyQl9vYjZZbGVpa2E2VWRqbnhXZ1FZQVEiLCJpZCI6ImZjX0ZoQzNaNkRSTXJLbzVOb1BtSnYtMkE4XzMifQ==', 'serpapi_link': 'https://serpapi.com/search.json?device=desktop&engine=google_related_questions&google_domain=google.com&next_page_token=eyJvbnMiOiIxMDA0MSIsImZjIjoiRXFFQkNtSkJRUzFMVkdoa1lqSlllREZzTW14cU4wSXliVm81VUc1SmNWODJRWEE0Y0VwbGRXUkdkRFJvYkRaV1RuVnRVbXQ0Wld4WFduQnViV3hwY25kNVIwRlVhWE5JVGxwSmNrNXpTVVZoUW5WSk1uTTVlV28xU2pkSFdXc3dOVlp1TjBSQlFSSVhSbWhETTFvMlJGSk5ja3R2TlU1dlVHMUtkaTB5UVRnYUlrRkRSRmhNTkcxUlVqVmlWRlJtV2tVMU5IbFBSbTF6WVdRMU9UTndVR1J3YUdjIiwiZmN2IjoiMyIsImVpIjoiRmhDM1o2RFJNcktvNU5vUG1Kdi0yQTgiLCJxYyI6IkNoaHNZWFJsYzNRZ2JtVjNjeUJwYmlCMGFHVWdkMjl5YkdRUUFERUFBQUJBM3JmSFAzMWVremdfIiwicXVlc3Rpb24iOiJXaGF0IGlzIHRoZSB0cmVuZGluZyBuZXdzIGluIHRoZSB3b3JsZCBub3c%2FIiwibGsiOiJjNVBTS3M5SUxGSElMRllveVVoVktDbEt6VXZKekV0WHlFc3RMMWJJekFNTGx1Y1g1YVFvNU9XWEF3QSIsImJzIjoiYy1PSzQ5SU96MGdzVWNnc1ZpakpTRlVvS1VyTlM4bk1TMWZJU3kwdlZzak1Bd3VXNXhmbHBDams1WmZiUzh5ck05S1IwaW9uV2dkWEFKY0syUHpFb2xTSTh2d0NCVU1EaFl6VXhKU2N6THhVb0JuNUtZbVY5aExkaFVhcVVzcmxoSlZ5WlhFWm9waVlrMWlTV2x5aWtGeGFCSFFKVURndExUR3pDTlVsOWhLZGtVWkdVZ2JsSk9yalN1RFNRUTZkalB3U3NCNmd5ektUWVNyQl9vYjZZbGVpa2E2VWRqbnhXZ1FZQVEiLCJpZCI6ImZjX0ZoQzNaNkRSTXJLbzVOb1BtSnYtMkE4XzMifQ%3D%3D'}, {'question': 'What are the top 10 headlines today?', 'snippet': None, 'title': 'Trending Videos', 'link': 'https://www.indiatoday.in/news.html', 'list': [\"India News. Rekha Gupta named Delhi's next Chief Minister.\", 'Karnataka News. Karnataka Lokayukta says no proof against Siddaramaiah, his wife in Muda case.', 'India News. Yogi Adityanath dismisses claims of covering-up Maha Kumbh stampede deaths.', 'Sledging Room Podcast.'], 'displayed_link': 'https://www.indiatoday.in › news', 'source_logo': 'https://serpapi.com/searches/67b710167f8cfafec4555f5e/images/005abd773d04d1ae77e5386f55bdc4c77fd7c887db5857cfe02c9c2bbe592f4e.png', 'next_page_token': 'eyJvbnMiOiIxMDA0MSIsImZjIjoiRXFFQkNtSkJRUzFMVkdoa1lqSlllREZzTW14cU4wSXliVm81VUc1SmNWODJRWEE0Y0VwbGRXUkdkRFJvYkRaV1RuVnRVbXQ0Wld4WFduQnViV3hwY25kNVIwRlVhWE5JVGxwSmNrNXpTVVZoUW5WSk1uTTVlV28xU2pkSFdXc3dOVlp1TjBSQlFSSVhSbWhETTFvMlJGSk5ja3R2TlU1dlVHMUtkaTB5UVRnYUlrRkRSRmhNTkcxUlVqVmlWRlJtV2tVMU5IbFBSbTF6WVdRMU9UTndVR1J3YUdjIiwiZmN2IjoiMyIsImVpIjoiRmhDM1o2RFJNcktvNU5vUG1Kdi0yQTgiLCJxYyI6IkNoaHNZWFJsYzNRZ2JtVjNjeUJwYmlCMGFHVWdkMjl5YkdRUUFERUFBQUJBM3JmSFAzMWVremdfIiwicXVlc3Rpb24iOiJXaGF0IGFyZSB0aGUgdG9wIDEwIGhlYWRsaW5lcyB0b2RheT8iLCJsayI6ImM1TlNMczlJTEZGSUxFcFZLTWtBNHZ3Q0JVTURoWXpVeEpTY3pMelVZcUJBU21JbEFBIiwiYnMiOiJjLU9LNDlJT3owZ3NVY2dzVmlqSlNGVW9LVXJOUzhuTVMxZklTeTB2VnNqTUF3dVc1eGZscENqazVaZmJTOHlyTTlLUjBpb25XZ2RYQUpjSzJQekVvbFNJOHZ3Q0JVTURoWXpVeEpTY3pMeFVvQm41S1ltVjloTGRoVWFxVXNybGhKVnlaWEVab3BpWWsxaVNXbHlpa0Z4YUJIUUpVRGd0TFRHekNOVWw5aEtka1VaR1VnYmxKT3JqU3VEU1FRNmRqUHdTc0I2Z3l6S1RZU3JCX29iNllsZWlrYTZVZGpueFdnUVlBUSIsImlkIjoiZmNfRmhDM1o2RFJNcktvNU5vUG1Kdi0yQThfMyJ9', 'serpapi_link': 'https://serpapi.com/search.json?device=desktop&engine=google_related_questions&google_domain=google.com&next_page_token=eyJvbnMiOiIxMDA0MSIsImZjIjoiRXFFQkNtSkJRUzFMVkdoa1lqSlllREZzTW14cU4wSXliVm81VUc1SmNWODJRWEE0Y0VwbGRXUkdkRFJvYkRaV1RuVnRVbXQ0Wld4WFduQnViV3hwY25kNVIwRlVhWE5JVGxwSmNrNXpTVVZoUW5WSk1uTTVlV28xU2pkSFdXc3dOVlp1TjBSQlFSSVhSbWhETTFvMlJGSk5ja3R2TlU1dlVHMUtkaTB5UVRnYUlrRkRSRmhNTkcxUlVqVmlWRlJtV2tVMU5IbFBSbTF6WVdRMU9UTndVR1J3YUdjIiwiZmN2IjoiMyIsImVpIjoiRmhDM1o2RFJNcktvNU5vUG1Kdi0yQTgiLCJxYyI6IkNoaHNZWFJsYzNRZ2JtVjNjeUJwYmlCMGFHVWdkMjl5YkdRUUFERUFBQUJBM3JmSFAzMWVremdfIiwicXVlc3Rpb24iOiJXaGF0IGFyZSB0aGUgdG9wIDEwIGhlYWRsaW5lcyB0b2RheT8iLCJsayI6ImM1TlNMczlJTEZGSUxFcFZLTWtBNHZ3Q0JVTURoWXpVeEpTY3pMelVZcUJBU21JbEFBIiwiYnMiOiJjLU9LNDlJT3owZ3NVY2dzVmlqSlNGVW9LVXJOUzhuTVMxZklTeTB2VnNqTUF3dVc1eGZscENqazVaZmJTOHlyTTlLUjBpb25XZ2RYQUpjSzJQekVvbFNJOHZ3Q0JVTURoWXpVeEpTY3pMeFVvQm41S1ltVjloTGRoVWFxVXNybGhKVnlaWEVab3BpWWsxaVNXbHlpa0Z4YUJIUUpVRGd0TFRHekNOVWw5aEtka1VaR1VnYmxKT3JqU3VEU1FRNmRqUHdTc0I2Z3l6S1RZU3JCX29iNllsZWlrYTZVZGpueFdnUVlBUSIsImlkIjoiZmNfRmhDM1o2RFJNcktvNU5vUG1Kdi0yQThfMyJ9'}, {'question': 'What are the latest current affairs in the world?', 'snippet': None, 'title': 'World News', 'link': 'https://www.business-standard.com/world-news', 'list': ['Nearly 300 US deportees held in Panama as officials arrange their return. ... ', 'Toronto plane crash: Investigators recover black boxes for further analysis. ... ', \"Trump says he may meet Putin this month, dismisses Ukraine's concerns. ... \", \"In 1st joint interview, Trump backs Musk's efforts to enforce exec orders.\"], 'displayed_link': 'https://www.business-standard.com › world-news', 'source_logo': 'https://serpapi.com/searches/67b710167f8cfafec4555f5e/images/005abd773d04d1ae77e5386f55bdc4c77440d558622152088c47ad2f18f26f08.png', 'next_page_token': 'eyJvbnMiOiIxMDA0MSIsImZjIjoiRXFFQkNtSkJRUzFMVkdoa1lqSlllREZzTW14cU4wSXliVm81VUc1SmNWODJRWEE0Y0VwbGRXUkdkRFJvYkRaV1RuVnRVbXQ0Wld4WFduQnViV3hwY25kNVIwRlVhWE5JVGxwSmNrNXpTVVZoUW5WSk1uTTVlV28xU2pkSFdXc3dOVlp1TjBSQlFSSVhSbWhETTFvMlJGSk5ja3R2TlU1dlVHMUtkaTB5UVRnYUlrRkRSRmhNTkcxUlVqVmlWRlJtV2tVMU5IbFBSbTF6WVdRMU9UTndVR1J3YUdjIiwiZmN2IjoiMyIsImVpIjoiRmhDM1o2RFJNcktvNU5vUG1Kdi0yQTgiLCJxYyI6IkNoaHNZWFJsYzNRZ2JtVjNjeUJwYmlCMGFHVWdkMjl5YkdRUUFERUFBQUJBM3JmSFAzMWVremdfIiwicXVlc3Rpb24iOiJXaGF0IGFyZSB0aGUgbGF0ZXN0IGN1cnJlbnQgYWZmYWlycyBpbiB0aGUgd29ybGQ/IiwibGsiOiJjNU15S005SUxGRklMRXBWS01sSVZjaEpMRWt0TGxGSUxpMHFTczBEQ3FlbEpXWVdGU3RrNW9GbHlfT0xjbElBIiwiYnMiOiJjLU9LNDlJT3owZ3NVY2dzVmlqSlNGVW9LVXJOUzhuTVMxZklTeTB2VnNqTUF3dVc1eGZscENqazVaZmJTOHlyTTlLUjBpb25XZ2RYQUpjSzJQekVvbFNJOHZ3Q0JVTURoWXpVeEpTY3pMeFVvQm41S1ltVjloTGRoVWFxVXNybGhKVnlaWEVab3BpWWsxaVNXbHlpa0Z4YUJIUUpVRGd0TFRHekNOVWw5aEtka1VaR1VnYmxKT3JqU3VEU1FRNmRqUHdTc0I2Z3l6S1RZU3JCX29iNllsZWlrYTZVZGpueFdnUVlBUSIsImlkIjoiZmNfRmhDM1o2RFJNcktvNU5vUG1Kdi0yQThfMyJ9', 'serpapi_link': 'https://serpapi.com/search.json?device=desktop&engine=google_related_questions&google_domain=google.com&next_page_token=eyJvbnMiOiIxMDA0MSIsImZjIjoiRXFFQkNtSkJRUzFMVkdoa1lqSlllREZzTW14cU4wSXliVm81VUc1SmNWODJRWEE0Y0VwbGRXUkdkRFJvYkRaV1RuVnRVbXQ0Wld4WFduQnViV3hwY25kNVIwRlVhWE5JVGxwSmNrNXpTVVZoUW5WSk1uTTVlV28xU2pkSFdXc3dOVlp1TjBSQlFSSVhSbWhETTFvMlJGSk5ja3R2TlU1dlVHMUtkaTB5UVRnYUlrRkRSRmhNTkcxUlVqVmlWRlJtV2tVMU5IbFBSbTF6WVdRMU9UTndVR1J3YUdjIiwiZmN2IjoiMyIsImVpIjoiRmhDM1o2RFJNcktvNU5vUG1Kdi0yQTgiLCJxYyI6IkNoaHNZWFJsYzNRZ2JtVjNjeUJwYmlCMGFHVWdkMjl5YkdRUUFERUFBQUJBM3JmSFAzMWVremdfIiwicXVlc3Rpb24iOiJXaGF0IGFyZSB0aGUgbGF0ZXN0IGN1cnJlbnQgYWZmYWlycyBpbiB0aGUgd29ybGQ%2FIiwibGsiOiJjNU15S005SUxGRklMRXBWS01sSVZjaEpMRWt0TGxGSUxpMHFTczBEQ3FlbEpXWVdGU3RrNW9GbHlfT0xjbElBIiwiYnMiOiJjLU9LNDlJT3owZ3NVY2dzVmlqSlNGVW9LVXJOUzhuTVMxZklTeTB2VnNqTUF3dVc1eGZscENqazVaZmJTOHlyTTlLUjBpb25XZ2RYQUpjSzJQekVvbFNJOHZ3Q0JVTURoWXpVeEpTY3pMeFVvQm41S1ltVjloTGRoVWFxVXNybGhKVnlaWEVab3BpWWsxaVNXbHlpa0Z4YUJIUUpVRGd0TFRHekNOVWw5aEtka1VaR1VnYmxKT3JqU3VEU1FRNmRqUHdTc0I2Z3l6S1RZU3JCX29iNllsZWlrYTZVZGpueFdnUVlBUSIsImlkIjoiZmNfRmhDM1o2RFJNcktvNU5vUG1Kdi0yQThfMyJ9'}, {'question': 'What is the hottest topic in the news today?', 'snippet': None, 'title': 'AI Overview', 'link': 'https://support.google.com/websearch?p=ai_overviews&hl=en', 'list': ['The US and Russia agreed to work together to improve relations and end the war\\xa0 ', 'US and Russian officials met to discuss a deal without Zelensky\\xa0 ', 'The Trump administration is committed to NATO\\xa0 ', 'The Mexican singer and songwriter died at age 77 ', 'She was known for her powerful lyrics and bold personality ', 'A Delta plane carrying 80 people crash-landed and flipped upside down at Toronto airport ', 'At least 18 passengers were injured ', 'Most passengers evacuated the plane on their own ', 'A study found that global luxury sales are flattening\\xa0 ', \"A Secret Service agent was robbed at gunpoint during President Biden's visit to Los Angeles\\xa0 \", 'A Kentucky child was shot and killed by alleged armed home invaders\\xa0 ', 'Starliner astronauts reacted to Trump saying they were \"abandoned\"\\xa0 ', \"Candice Bergen's husband died after Parkinson's\\xa0 \"], 'displayed_link': None, 'next_page_token': 'eyJvbnMiOiIxMDA0MSIsImZjIjoiRXFFQkNtSkJRUzFMVkdoa1lqSlllREZzTW14cU4wSXliVm81VUc1SmNWODJRWEE0Y0VwbGRXUkdkRFJvYkRaV1RuVnRVbXQ0Wld4WFduQnViV3hwY25kNVIwRlVhWE5JVGxwSmNrNXpTVVZoUW5WSk1uTTVlV28xU2pkSFdXc3dOVlp1TjBSQlFSSVhSbWhETTFvMlJGSk5ja3R2TlU1dlVHMUtkaTB5UVRnYUlrRkRSRmhNTkcxUlVqVmlWRlJtV2tVMU5IbFBSbTF6WVdRMU9UTndVR1J3YUdjIiwiZmN2IjoiMyIsImVpIjoiRmhDM1o2RFJNcktvNU5vUG1Kdi0yQTgiLCJxYyI6IkNoaHNZWFJsYzNRZ2JtVjNjeUJwYmlCMGFHVWdkMjl5YkdRUUFERUFBQUJBM3JmSFAzMWVremdfIiwicXVlc3Rpb24iOiJXaGF0IGlzIHRoZSBob3R0ZXN0IHRvcGljIGluIHRoZSBuZXdzIHRvZGF5PyIsImxrIjoiYzVQU0xzOUlMRkhJTEZZb3lVaFZ5TWd2S1VrdExsRW95U19JVEZiSXpBTUw1cVdXQTJYelV4SXJBUSIsImJzIjoiYy1PSzQ5SU96MGdzVWNnc1ZpakpTRlVvS1VyTlM4bk1TMWZJU3kwdlZzak1Bd3VXNXhmbHBDams1WmZiUzh5ck05S1IwaW9uV2dkWEFKY0syUHpFb2xTSTh2d0NCVU1EaFl6VXhKU2N6THhVb0JuNUtZbVY5aExkaFVhcVVzcmxoSlZ5WlhFWm9waVlrMWlTV2x5aWtGeGFCSFFKVURndExUR3pDTlVsOWhLZGtVWkdVZ2JsSk9yalN1RFNRUTZkalB3U3NCNmd5ektUWVNyQl9vYjZZbGVpa2E2VWRqbnhXZ1FZQVEiLCJpZCI6ImZjX0ZoQzNaNkRSTXJLbzVOb1BtSnYtMkE4XzMifQ==', 'serpapi_link': 'https://serpapi.com/search.json?device=desktop&engine=google_related_questions&google_domain=google.com&next_page_token=eyJvbnMiOiIxMDA0MSIsImZjIjoiRXFFQkNtSkJRUzFMVkdoa1lqSlllREZzTW14cU4wSXliVm81VUc1SmNWODJRWEE0Y0VwbGRXUkdkRFJvYkRaV1RuVnRVbXQ0Wld4WFduQnViV3hwY25kNVIwRlVhWE5JVGxwSmNrNXpTVVZoUW5WSk1uTTVlV28xU2pkSFdXc3dOVlp1TjBSQlFSSVhSbWhETTFvMlJGSk5ja3R2TlU1dlVHMUtkaTB5UVRnYUlrRkRSRmhNTkcxUlVqVmlWRlJtV2tVMU5IbFBSbTF6WVdRMU9UTndVR1J3YUdjIiwiZmN2IjoiMyIsImVpIjoiRmhDM1o2RFJNcktvNU5vUG1Kdi0yQTgiLCJxYyI6IkNoaHNZWFJsYzNRZ2JtVjNjeUJwYmlCMGFHVWdkMjl5YkdRUUFERUFBQUJBM3JmSFAzMWVremdfIiwicXVlc3Rpb24iOiJXaGF0IGlzIHRoZSBob3R0ZXN0IHRvcGljIGluIHRoZSBuZXdzIHRvZGF5PyIsImxrIjoiYzVQU0xzOUlMRkhJTEZZb3lVaFZ5TWd2S1VrdExsRW95U19JVEZiSXpBTUw1cVdXQTJYelV4SXJBUSIsImJzIjoiYy1PSzQ5SU96MGdzVWNnc1ZpakpTRlVvS1VyTlM4bk1TMWZJU3kwdlZzak1Bd3VXNXhmbHBDams1WmZiUzh5ck05S1IwaW9uV2dkWEFKY0syUHpFb2xTSTh2d0NCVU1EaFl6VXhKU2N6THhVb0JuNUtZbVY5aExkaFVhcVVzcmxoSlZ5WlhFWm9waVlrMWlTV2x5aWtGeGFCSFFKVURndExUR3pDTlVsOWhLZGtVWkdVZ2JsSk9yalN1RFNRUTZkalB3U3NCNmd5ektUWVNyQl9vYjZZbGVpa2E2VWRqbnhXZ1FZQVEiLCJpZCI6ImZjX0ZoQzNaNkRSTXJLbzVOb1BtSnYtMkE4XzMifQ%3D%3D'}], 'organic_results': [{'position': 1, 'title': 'World | Latest News & Updates', 'link': 'https://www.bbc.com/news/world', 'redirect_link': 'https://www.google.com/url?sa=t&source=web&rct=j&opi=89978449&url=https://www.bbc.com/news/world&ved=2ahUKEwigtIGKkdKLAxUyFFkFHZiNH_sQFnoECBwQAQ', 'displayed_link': 'https://www.bbc.com › news › world', 'favicon': 'https://serpapi.com/searches/67b710167f8cfafec4555f5e/images/a1e5f2d48cb5e598291b88bdfff01798cff16e6d023b0c62d12765cd24da488e.png', 'snippet': 'Six elephants dead after being hit by train in Sri Lanka. No injuries were reported among passengers of the train, which derailed after striking the elephants.', 'snippet_highlighted_words': ['Six elephants dead after being hit by train in Sri Lanka'], 'sitelinks': {'inline': [{'title': 'BBC World', 'link': 'https://www.bbc.com/news/world_radio_and_tv'}, {'title': 'Africa', 'link': 'https://www.bbc.com/news/world/africa'}, {'title': 'Europe', 'link': 'https://www.bbc.com/news/world/europe'}, {'title': 'Middle East', 'link': 'https://www.bbc.com/news/world/middle_east'}]}, 'source': 'BBC'}, {'position': 2, 'title': 'World news - breaking news, video, headlines and opinion', 'link': 'https://www.cnn.com/world', 'redirect_link': 'https://www.google.com/url?sa=t&source=web&rct=j&opi=89978449&url=https://www.cnn.com/world&ved=2ahUKEwigtIGKkdKLAxUyFFkFHZiNH_sQFnoECBoQAQ', 'displayed_link': 'https://www.cnn.com › world', 'favicon': 'https://serpapi.com/searches/67b710167f8cfafec4555f5e/images/a1e5f2d48cb5e598291b88bdfff0179824154abd8473996c73264a5fae32e530.png', 'snippet': 'US and Russia to appoint teams to negotiate end of Ukraine war in talks that excluded Kyiv · Argentine president defends his cryptocurrency tweet after ...', 'snippet_highlighted_words': ['US and Russia to appoint teams to negotiate end of Ukraine war'], 'source': 'CNN'}, {'position': 3, 'title': 'CNN: Breaking News, Latest News and Videos', 'link': 'https://www.cnn.com/', 'redirect_link': 'https://www.google.com/url?sa=t&source=web&rct=j&opi=89978449&url=https://www.cnn.com/&ved=2ahUKEwigtIGKkdKLAxUyFFkFHZiNH_sQFnoECB8QAQ', 'displayed_link': 'https://www.cnn.com', 'favicon': 'https://serpapi.com/searches/67b710167f8cfafec4555f5e/images/a1e5f2d48cb5e598291b88bdfff01798ac84368b0b93492f9b036da37cd34117.png', 'snippet': 'View the latest news and breaking news today for U.S., world, weather, entertainment, politics and health at CNN.com.', 'snippet_highlighted_words': ['breaking news today'], 'sitelinks': {'inline': [{'title': 'World', 'link': 'https://www.cnn.com/world'}, {'title': 'US', 'link': 'https://www.cnn.com/us'}, {'title': 'Politics', 'link': 'https://www.cnn.com/politics'}, {'title': 'Supreme Court News', 'link': 'https://www.cnn.com/politics/supreme-court'}]}, 'source': 'CNN'}, {'position': 4, 'title': 'World News | Latest Top Stories', 'link': 'https://www.reuters.com/world/', 'redirect_link': 'https://www.google.com/url?sa=t&source=web&rct=j&opi=89978449&url=https://www.reuters.com/world/&ved=2ahUKEwigtIGKkdKLAxUyFFkFHZiNH_sQFnoECCkQAQ', 'displayed_link': 'https://www.reuters.com › world', 'favicon': 'https://serpapi.com/searches/67b710167f8cfafec4555f5e/images/a1e5f2d48cb5e598291b88bdfff01798eca50e721d755ae60db04720906526cb.png', 'snippet': 'Reuters.com is your online source for the latest world news stories and current events, ensuring our readers up to date with any breaking news developments.', 'snippet_highlighted_words': ['Reuters.com is your online source for the latest world news stories'], 'sitelinks': {'inline': [{'title': 'United States', 'link': 'https://www.reuters.com/world/us/'}, {'title': 'Europe', 'link': 'https://www.reuters.com/world/europe/'}, {'title': 'China', 'link': 'https://www.reuters.com/world/china/'}, {'title': 'Middle East', 'link': 'https://www.reuters.com/world/middle-east/'}]}, 'source': 'Reuters'}, {'position': 5, 'title': 'Breaking News, World News and Video from Al Jazeera', 'link': 'https://www.aljazeera.com/', 'redirect_link': 'https://www.google.com/url?sa=t&source=web&rct=j&opi=89978449&url=https://www.aljazeera.com/&ved=2ahUKEwigtIGKkdKLAxUyFFkFHZiNH_sQFnoECCcQAQ', 'displayed_link': 'https://www.aljazeera.com', 'favicon': 'https://serpapi.com/searches/67b710167f8cfafec4555f5e/images/a1e5f2d48cb5e598291b88bdfff01798de4d44098c05bb33b094d324f3d4563e.png', 'snippet': \"Trending · Hamas hands over four captives' bodies to Israel in Gaza's Khan Younis · Israeli army kills 3 Palestinians in attack on West Bank refugee camp ...\", 'snippet_highlighted_words': [\"Hamas hands over four captives' bodies to Israel in Gaza's Khan Younis\"], 'source': 'Al Jazeera'}, {'position': 6, 'title': 'Google News - Home - For you', 'link': 'https://news.google.com/', 'redirect_link': 'https://www.google.com/url?sa=t&source=web&rct=j&opi=89978449&url=https://news.google.com/&ved=2ahUKEwigtIGKkdKLAxUyFFkFHZiNH_sQFnoECC0QAQ', 'displayed_link': 'https://news.google.com', 'favicon': 'https://serpapi.com/searches/67b710167f8cfafec4555f5e/images/a1e5f2d48cb5e598291b88bdfff017982ec7e93b5df255ee4f8469eace0e1e4d.png', 'snippet': \"Top stories · 'Dictator': Trump blasts Zelenskyy amid negotiations over Ukraine war · Hamas Hands Bodies of 4 Hostages Back to Israel.\", 'snippet_highlighted_words': ['Trump blasts Zelenskyy amid negotiations over Ukraine war'], 'source': 'Google News'}, {'position': 7, 'title': 'in World', 'link': 'https://www.cbsnews.com/world/', 'redirect_link': 'https://www.google.com/url?sa=t&source=web&rct=j&opi=89978449&url=https://www.cbsnews.com/world/&ved=2ahUKEwigtIGKkdKLAxUyFFkFHZiNH_sQFnoECCwQAQ', 'displayed_link': 'https://www.cbsnews.com › World', 'favicon': 'https://serpapi.com/searches/67b710167f8cfafec4555f5e/images/a1e5f2d48cb5e598291b88bdfff0179837cd0be858cc2356d001ec913a18fba2.png', 'snippet': 'Science · Odds of \"city-killer\" asteroid hitting Earth in 2032 rise, then fall again, NASA says · Vaccine targeting pancreatic cancer shows promise in new study.', 'snippet_highlighted_words': ['Earth'], 'source': 'CBS News'}, {'position': 8, 'title': 'NBC News - Breaking News & Top Stories - Latest World, US ...', 'link': 'https://www.nbcnews.com/', 'redirect_link': 'https://www.google.com/url?sa=t&source=web&rct=j&opi=89978449&url=https://www.nbcnews.com/&ved=2ahUKEwigtIGKkdKLAxUyFFkFHZiNH_sQFnoECDAQAQ', 'displayed_link': 'https://www.nbcnews.com', 'favicon': 'https://serpapi.com/searches/67b710167f8cfafec4555f5e/images/a1e5f2d48cb5e598291b88bdfff01798b5d03732aab24a2b17cbe61268f38999.png', 'snippet': 'Go to NBCNews.com for breaking news, videos, and the latest top stories in world news, business, politics, health and pop culture.', 'snippet_highlighted_words': ['breaking news, videos, and the latest top stories in world news'], 'sitelinks': {'inline': [{'title': 'World', 'link': 'https://www.nbcnews.com/world'}, {'title': 'U.S. News', 'link': 'https://www.nbcnews.com/us-news'}, {'title': 'Latest Stories', 'link': 'https://www.nbcnews.com/latest-stories'}, {'title': 'Nightly News', 'link': 'https://www.nbcnews.com/nightly-news'}]}, 'source': 'NBC News'}, {'position': 9, 'title': 'ABC News - Breaking News, Latest News and Videos', 'link': 'https://abcnews.go.com/', 'redirect_link': 'https://www.google.com/url?sa=t&source=web&rct=j&opi=89978449&url=https://abcnews.go.com/&ved=2ahUKEwigtIGKkdKLAxUyFFkFHZiNH_sQFnoECCoQAQ', 'displayed_link': 'https://abcnews.go.com', 'favicon': 'https://serpapi.com/searches/67b710167f8cfafec4555f5e/images/a1e5f2d48cb5e598291b88bdfff017980989f47bd01163143a832a9639516078.png', 'snippet': 'G20 meeting of foreign ministers gets underway in South Africa amid tensions with US · Ancient Egyptian royal tomb discovered, first one in over 100 years ...', 'snippet_highlighted_words': ['G20 meeting of foreign ministers gets underway in South Africa'], 'sitelinks': {'inline': [{'title': 'International', 'link': 'https://abcnews.go.com/International'}, {'title': 'World News Tonight', 'link': 'https://abcnews.go.com/WN'}, {'title': 'U.S.', 'link': 'https://abcnews.go.com/US'}, {'title': 'Live', 'link': 'https://abcnews.go.com/Live'}]}, 'source': 'ABC News'}], 'top_stories': [{'title': 'Hamas Hands Bodies of 4 Hostages Back to Israel', 'link': 'https://www.nytimes.com/2025/02/20/world/middleeast/israel-hamas-hostages-bodies.html', 'source': 'The New York Times', 'date': '4 hours ago', 'thumbnail': 'https://serpapi.com/searches/67b710167f8cfafec4555f5e/images/a5bb2cfc859c037a20b746e879cdec3c3a50ed0919c32a01.jpeg'}, {'title': 'Chinese extricated from Myanmar scam centres fly home from Thailand', 'link': 'https://www.reuters.com/world/asia-pacific/chinese-extricated-myanmar-scam-centres-fly-home-thailand-2025-02-20/', 'source': 'Reuters', 'date': '3 hours ago', 'thumbnail': 'https://serpapi.com/searches/67b710167f8cfafec4555f5e/images/a5bb2cfc859c037a5c8da28cce28926d4caf76d5b1e830a1.jpeg'}, {'title': 'Panama sends 97 U.S. deportees to migrant camp after they refused to be repatriated', 'link': 'https://www.npr.org/2025/02/20/nx-s1-5303951/panama-us-migrants-darien-deportation', 'source': 'NPR', 'date': '5 hours ago', 'thumbnail': 'https://serpapi.com/searches/67b710167f8cfafec4555f5e/images/a5bb2cfc859c037adaf18430a0e0e4fbab62a31806dfa9fb.jpeg'}, {'title': 'Bibas and Lifshitz families cling to hope ahead of final confirmation of hostages’ fate', 'link': 'https://www.timesofisrael.com/bibas-and-lifshitz-families-cling-to-hope-ahead-of-final-confirmation-of-hostages-fate/', 'source': 'The Times of Israel', 'date': '12 hours ago', 'thumbnail': 'https://serpapi.com/searches/67b710167f8cfafec4555f5e/images/a5bb2cfc859c037a6f4aa50e813061aa271e7f7e719c77a9.jpeg'}, {'title': \"China's Military Modernization: A Superpower in the Making or a Politically Constrained Force?\", 'link': 'https://indiandefencereview.com/chinas-military-modernization-constrained/', 'source': 'Indian Defence Review', 'date': '20 hours ago', 'thumbnail': 'https://serpapi.com/searches/67b710167f8cfafec4555f5e/images/a5bb2cfc859c037aaab91d314be7b99a46620702a3ba6227.jpeg'}, {'title': 'Doctors say Pope Francis shows ‘slight improvement’ while in hospital', 'link': 'https://www.catholicnewsagency.com/news/262303/doctors-say-pope-francis-shows-slight-improvement-while-in-hospital', 'source': 'Catholic News Agency', 'date': '16 hours ago', 'thumbnail': 'https://serpapi.com/searches/67b710167f8cfafec4555f5e/images/a5bb2cfc859c037acc92baff92f2c48b8e35b6dc9968c0f4.jpeg'}], 'related_searches': [{'block_position': 1, 'query': 'Breaking news today', 'link': 'https://www.google.com/search?sca_esv=05d45a37f3fc0a16&q=Breaking+news+today&sa=X&ved=2ahUKEwigtIGKkdKLAxUyFFkFHZiNH_sQ1QJ6BAg9EAE', 'serpapi_link': 'https://serpapi.com/search.json?device=desktop&engine=google&google_domain=google.com&q=Breaking+news+today'}, {'block_position': 1, 'query': 'Latest news in the world cnn', 'link': 'https://www.google.com/search?sca_esv=05d45a37f3fc0a16&q=Latest+news+in+the+world+cnn&sa=X&ved=2ahUKEwigtIGKkdKLAxUyFFkFHZiNH_sQ1QJ6BAg6EAE', 'serpapi_link': 'https://serpapi.com/search.json?device=desktop&engine=google&google_domain=google.com&q=Latest+news+in+the+world+cnn'}, {'block_position': 1, 'query': 'Latest news in the world live', 'link': 'https://www.google.com/search?sca_esv=05d45a37f3fc0a16&q=Latest+news+in+the+world+live&sa=X&ved=2ahUKEwigtIGKkdKLAxUyFFkFHZiNH_sQ1QJ6BAg5EAE', 'serpapi_link': 'https://serpapi.com/search.json?device=desktop&engine=google&google_domain=google.com&q=Latest+news+in+the+world+live'}, {'block_position': 1, 'query': 'Breaking news headlines today', 'link': 'https://www.google.com/search?sca_esv=05d45a37f3fc0a16&q=Breaking+news+headlines+today&sa=X&ved=2ahUKEwigtIGKkdKLAxUyFFkFHZiNH_sQ1QJ6BAg0EAE', 'serpapi_link': 'https://serpapi.com/search.json?device=desktop&engine=google&google_domain=google.com&q=Breaking+news+headlines+today'}, {'block_position': 1, 'query': 'Bbc world news', 'link': 'https://www.google.com/search?sca_esv=05d45a37f3fc0a16&q=Bbc+world+news&sa=X&ved=2ahUKEwigtIGKkdKLAxUyFFkFHZiNH_sQ1QJ6BAgxEAE', 'serpapi_link': 'https://serpapi.com/search.json?device=desktop&engine=google&google_domain=google.com&q=Bbc+world+news'}, {'block_position': 1, 'query': 'Fox News', 'link': 'https://www.google.com/search?sca_esv=05d45a37f3fc0a16&q=Fox+News&sa=X&ved=2ahUKEwigtIGKkdKLAxUyFFkFHZiNH_sQ1QJ6BAguEAE', 'serpapi_link': 'https://serpapi.com/search.json?device=desktop&engine=google&google_domain=google.com&q=Fox+News'}, {'block_position': 1, 'query': 'Bbc news', 'link': 'https://www.google.com/search?sca_esv=05d45a37f3fc0a16&q=Bbc+news&sa=X&ved=2ahUKEwigtIGKkdKLAxUyFFkFHZiNH_sQ1QJ6BAgrEAE', 'serpapi_link': 'https://serpapi.com/search.json?device=desktop&engine=google&google_domain=google.com&q=Bbc+news'}, {'block_position': 1, 'query': 'World news Al Jazeera', 'link': 'https://www.google.com/search?sca_esv=05d45a37f3fc0a16&q=World+news+Al+Jazeera&sa=X&ved=2ahUKEwigtIGKkdKLAxUyFFkFHZiNH_sQ1QJ6BAgmEAE', 'serpapi_link': 'https://serpapi.com/search.json?device=desktop&engine=google&google_domain=google.com&q=World+news+Al+Jazeera'}], 'pagination': {'current': 1, 'next': 'https://www.google.com/search?q=latest+news+in+the+world&sca_esv=05d45a37f3fc0a16&ei=FhC3Z6DRMrKo5NoPmJv-2A8&start=10&sa=N&sstk=Af40H4UkM5F52ZZVFGNc8wIPhQthNoO68fWiviVRK2ZtOVDCRgYCJbHreNdAiEV2ei-yWj7l836e_AHOes0A9F58dfe62hy0i5dLqQ&ved=2ahUKEwigtIGKkdKLAxUyFFkFHZiNH_sQ8NMDegQIBhAW', 'other_pages': {'2': 'https://www.google.com/search?q=latest+news+in+the+world&sca_esv=05d45a37f3fc0a16&ei=FhC3Z6DRMrKo5NoPmJv-2A8&start=10&sa=N&sstk=Af40H4UkM5F52ZZVFGNc8wIPhQthNoO68fWiviVRK2ZtOVDCRgYCJbHreNdAiEV2ei-yWj7l836e_AHOes0A9F58dfe62hy0i5dLqQ&ved=2ahUKEwigtIGKkdKLAxUyFFkFHZiNH_sQ8tMDegQIBhAE', '3': 'https://www.google.com/search?q=latest+news+in+the+world&sca_esv=05d45a37f3fc0a16&ei=FhC3Z6DRMrKo5NoPmJv-2A8&start=20&sa=N&sstk=Af40H4UkM5F52ZZVFGNc8wIPhQthNoO68fWiviVRK2ZtOVDCRgYCJbHreNdAiEV2ei-yWj7l836e_AHOes0A9F58dfe62hy0i5dLqQ&ved=2ahUKEwigtIGKkdKLAxUyFFkFHZiNH_sQ8tMDegQIBhAG', '4': 'https://www.google.com/search?q=latest+news+in+the+world&sca_esv=05d45a37f3fc0a16&ei=FhC3Z6DRMrKo5NoPmJv-2A8&start=30&sa=N&sstk=Af40H4UkM5F52ZZVFGNc8wIPhQthNoO68fWiviVRK2ZtOVDCRgYCJbHreNdAiEV2ei-yWj7l836e_AHOes0A9F58dfe62hy0i5dLqQ&ved=2ahUKEwigtIGKkdKLAxUyFFkFHZiNH_sQ8tMDegQIBhAI', '5': 'https://www.google.com/search?q=latest+news+in+the+world&sca_esv=05d45a37f3fc0a16&ei=FhC3Z6DRMrKo5NoPmJv-2A8&start=40&sa=N&sstk=Af40H4UkM5F52ZZVFGNc8wIPhQthNoO68fWiviVRK2ZtOVDCRgYCJbHreNdAiEV2ei-yWj7l836e_AHOes0A9F58dfe62hy0i5dLqQ&ved=2ahUKEwigtIGKkdKLAxUyFFkFHZiNH_sQ8tMDegQIBhAK', '6': 'https://www.google.com/search?q=latest+news+in+the+world&sca_esv=05d45a37f3fc0a16&ei=FhC3Z6DRMrKo5NoPmJv-2A8&start=50&sa=N&sstk=Af40H4UkM5F52ZZVFGNc8wIPhQthNoO68fWiviVRK2ZtOVDCRgYCJbHreNdAiEV2ei-yWj7l836e_AHOes0A9F58dfe62hy0i5dLqQ&ved=2ahUKEwigtIGKkdKLAxUyFFkFHZiNH_sQ8tMDegQIBhAM', '7': 'https://www.google.com/search?q=latest+news+in+the+world&sca_esv=05d45a37f3fc0a16&ei=FhC3Z6DRMrKo5NoPmJv-2A8&start=60&sa=N&sstk=Af40H4UkM5F52ZZVFGNc8wIPhQthNoO68fWiviVRK2ZtOVDCRgYCJbHreNdAiEV2ei-yWj7l836e_AHOes0A9F58dfe62hy0i5dLqQ&ved=2ahUKEwigtIGKkdKLAxUyFFkFHZiNH_sQ8tMDegQIBhAO', '8': 'https://www.google.com/search?q=latest+news+in+the+world&sca_esv=05d45a37f3fc0a16&ei=FhC3Z6DRMrKo5NoPmJv-2A8&start=70&sa=N&sstk=Af40H4UkM5F52ZZVFGNc8wIPhQthNoO68fWiviVRK2ZtOVDCRgYCJbHreNdAiEV2ei-yWj7l836e_AHOes0A9F58dfe62hy0i5dLqQ&ved=2ahUKEwigtIGKkdKLAxUyFFkFHZiNH_sQ8tMDegQIBhAQ', '9': 'https://www.google.com/search?q=latest+news+in+the+world&sca_esv=05d45a37f3fc0a16&ei=FhC3Z6DRMrKo5NoPmJv-2A8&start=80&sa=N&sstk=Af40H4UkM5F52ZZVFGNc8wIPhQthNoO68fWiviVRK2ZtOVDCRgYCJbHreNdAiEV2ei-yWj7l836e_AHOes0A9F58dfe62hy0i5dLqQ&ved=2ahUKEwigtIGKkdKLAxUyFFkFHZiNH_sQ8tMDegQIBhAS', '10': 'https://www.google.com/search?q=latest+news+in+the+world&sca_esv=05d45a37f3fc0a16&ei=FhC3Z6DRMrKo5NoPmJv-2A8&start=90&sa=N&sstk=Af40H4UkM5F52ZZVFGNc8wIPhQthNoO68fWiviVRK2ZtOVDCRgYCJbHreNdAiEV2ei-yWj7l836e_AHOes0A9F58dfe62hy0i5dLqQ&ved=2ahUKEwigtIGKkdKLAxUyFFkFHZiNH_sQ8tMDegQIBhAU'}}, 'serpapi_pagination': {'current': 1, 'next_link': 'https://serpapi.com/search.json?device=desktop&engine=google&google_domain=google.com&q=latest+news+in+the+world&start=10', 'next': 'https://serpapi.com/search.json?device=desktop&engine=google&google_domain=google.com&q=latest+news+in+the+world&start=10', 'other_pages': {'2': 'https://serpapi.com/search.json?device=desktop&engine=google&google_domain=google.com&q=latest+news+in+the+world&start=10', '3': 'https://serpapi.com/search.json?device=desktop&engine=google&google_domain=google.com&q=latest+news+in+the+world&start=20', '4': 'https://serpapi.com/search.json?device=desktop&engine=google&google_domain=google.com&q=latest+news+in+the+world&start=30', '5': 'https://serpapi.com/search.json?device=desktop&engine=google&google_domain=google.com&q=latest+news+in+the+world&start=40', '6': 'https://serpapi.com/search.json?device=desktop&engine=google&google_domain=google.com&q=latest+news+in+the+world&start=50', '7': 'https://serpapi.com/search.json?device=desktop&engine=google&google_domain=google.com&q=latest+news+in+the+world&start=60', '8': 'https://serpapi.com/search.json?device=desktop&engine=google&google_domain=google.com&q=latest+news+in+the+world&start=70', '9': 'https://serpapi.com/search.json?device=desktop&engine=google&google_domain=google.com&q=latest+news+in+the+world&start=80', '10': 'https://serpapi.com/search.json?device=desktop&engine=google&google_domain=google.com&q=latest+news+in+the+world&start=90'}}}\n"
     ]
    }
   ],
   "source": [
    "from serpapi import GoogleSearch\n",
    "from getpass import getpass\n",
    "\n",
    "SERPAPI_API_KEY = getpass(\"Enter your SerpAPI API key: \")\n",
    "\n",
    "params = {\n",
    "    \"api_key\": SERPAPI_API_KEY,\n",
    "    \"engine\": \"google\",\n",
    "    \"q\": \"latest news in the world\",\n",
    "}\n",
    "\n",
    "search = GoogleSearch(params)\n",
    "results = search.get_dict()\n",
    "\n",
    "print(results)"
   ]
  },
  {
   "cell_type": "markdown",
   "metadata": {},
   "source": [
    "Our results are provided in the `\"organic_results\"` key:"
   ]
  },
  {
   "cell_type": "code",
   "execution_count": 2,
   "metadata": {},
   "outputs": [
    {
     "data": {
      "text/plain": [
       "[{'position': 1,\n",
       "  'title': 'World | Latest News & Updates',\n",
       "  'link': 'https://www.bbc.com/news/world',\n",
       "  'redirect_link': 'https://www.google.com/url?sa=t&source=web&rct=j&opi=89978449&url=https://www.bbc.com/news/world&ved=2ahUKEwigtIGKkdKLAxUyFFkFHZiNH_sQFnoECBwQAQ',\n",
       "  'displayed_link': 'https://www.bbc.com › news › world',\n",
       "  'favicon': 'https://serpapi.com/searches/67b710167f8cfafec4555f5e/images/a1e5f2d48cb5e598291b88bdfff01798cff16e6d023b0c62d12765cd24da488e.png',\n",
       "  'snippet': 'Six elephants dead after being hit by train in Sri Lanka. No injuries were reported among passengers of the train, which derailed after striking the elephants.',\n",
       "  'snippet_highlighted_words': ['Six elephants dead after being hit by train in Sri Lanka'],\n",
       "  'sitelinks': {'inline': [{'title': 'BBC World',\n",
       "     'link': 'https://www.bbc.com/news/world_radio_and_tv'},\n",
       "    {'title': 'Africa', 'link': 'https://www.bbc.com/news/world/africa'},\n",
       "    {'title': 'Europe', 'link': 'https://www.bbc.com/news/world/europe'},\n",
       "    {'title': 'Middle East',\n",
       "     'link': 'https://www.bbc.com/news/world/middle_east'}]},\n",
       "  'source': 'BBC'},\n",
       " {'position': 2,\n",
       "  'title': 'World news - breaking news, video, headlines and opinion',\n",
       "  'link': 'https://www.cnn.com/world',\n",
       "  'redirect_link': 'https://www.google.com/url?sa=t&source=web&rct=j&opi=89978449&url=https://www.cnn.com/world&ved=2ahUKEwigtIGKkdKLAxUyFFkFHZiNH_sQFnoECBoQAQ',\n",
       "  'displayed_link': 'https://www.cnn.com › world',\n",
       "  'favicon': 'https://serpapi.com/searches/67b710167f8cfafec4555f5e/images/a1e5f2d48cb5e598291b88bdfff0179824154abd8473996c73264a5fae32e530.png',\n",
       "  'snippet': 'US and Russia to appoint teams to negotiate end of Ukraine war in talks that excluded Kyiv · Argentine president defends his cryptocurrency tweet after ...',\n",
       "  'snippet_highlighted_words': ['US and Russia to appoint teams to negotiate end of Ukraine war'],\n",
       "  'source': 'CNN'},\n",
       " {'position': 3,\n",
       "  'title': 'CNN: Breaking News, Latest News and Videos',\n",
       "  'link': 'https://www.cnn.com/',\n",
       "  'redirect_link': 'https://www.google.com/url?sa=t&source=web&rct=j&opi=89978449&url=https://www.cnn.com/&ved=2ahUKEwigtIGKkdKLAxUyFFkFHZiNH_sQFnoECB8QAQ',\n",
       "  'displayed_link': 'https://www.cnn.com',\n",
       "  'favicon': 'https://serpapi.com/searches/67b710167f8cfafec4555f5e/images/a1e5f2d48cb5e598291b88bdfff01798ac84368b0b93492f9b036da37cd34117.png',\n",
       "  'snippet': 'View the latest news and breaking news today for U.S., world, weather, entertainment, politics and health at CNN.com.',\n",
       "  'snippet_highlighted_words': ['breaking news today'],\n",
       "  'sitelinks': {'inline': [{'title': 'World',\n",
       "     'link': 'https://www.cnn.com/world'},\n",
       "    {'title': 'US', 'link': 'https://www.cnn.com/us'},\n",
       "    {'title': 'Politics', 'link': 'https://www.cnn.com/politics'},\n",
       "    {'title': 'Supreme Court News',\n",
       "     'link': 'https://www.cnn.com/politics/supreme-court'}]},\n",
       "  'source': 'CNN'},\n",
       " {'position': 4,\n",
       "  'title': 'World News | Latest Top Stories',\n",
       "  'link': 'https://www.reuters.com/world/',\n",
       "  'redirect_link': 'https://www.google.com/url?sa=t&source=web&rct=j&opi=89978449&url=https://www.reuters.com/world/&ved=2ahUKEwigtIGKkdKLAxUyFFkFHZiNH_sQFnoECCkQAQ',\n",
       "  'displayed_link': 'https://www.reuters.com › world',\n",
       "  'favicon': 'https://serpapi.com/searches/67b710167f8cfafec4555f5e/images/a1e5f2d48cb5e598291b88bdfff01798eca50e721d755ae60db04720906526cb.png',\n",
       "  'snippet': 'Reuters.com is your online source for the latest world news stories and current events, ensuring our readers up to date with any breaking news developments.',\n",
       "  'snippet_highlighted_words': ['Reuters.com is your online source for the latest world news stories'],\n",
       "  'sitelinks': {'inline': [{'title': 'United States',\n",
       "     'link': 'https://www.reuters.com/world/us/'},\n",
       "    {'title': 'Europe', 'link': 'https://www.reuters.com/world/europe/'},\n",
       "    {'title': 'China', 'link': 'https://www.reuters.com/world/china/'},\n",
       "    {'title': 'Middle East',\n",
       "     'link': 'https://www.reuters.com/world/middle-east/'}]},\n",
       "  'source': 'Reuters'},\n",
       " {'position': 5,\n",
       "  'title': 'Breaking News, World News and Video from Al Jazeera',\n",
       "  'link': 'https://www.aljazeera.com/',\n",
       "  'redirect_link': 'https://www.google.com/url?sa=t&source=web&rct=j&opi=89978449&url=https://www.aljazeera.com/&ved=2ahUKEwigtIGKkdKLAxUyFFkFHZiNH_sQFnoECCcQAQ',\n",
       "  'displayed_link': 'https://www.aljazeera.com',\n",
       "  'favicon': 'https://serpapi.com/searches/67b710167f8cfafec4555f5e/images/a1e5f2d48cb5e598291b88bdfff01798de4d44098c05bb33b094d324f3d4563e.png',\n",
       "  'snippet': \"Trending · Hamas hands over four captives' bodies to Israel in Gaza's Khan Younis · Israeli army kills 3 Palestinians in attack on West Bank refugee camp ...\",\n",
       "  'snippet_highlighted_words': [\"Hamas hands over four captives' bodies to Israel in Gaza's Khan Younis\"],\n",
       "  'source': 'Al Jazeera'},\n",
       " {'position': 6,\n",
       "  'title': 'Google News - Home - For you',\n",
       "  'link': 'https://news.google.com/',\n",
       "  'redirect_link': 'https://www.google.com/url?sa=t&source=web&rct=j&opi=89978449&url=https://news.google.com/&ved=2ahUKEwigtIGKkdKLAxUyFFkFHZiNH_sQFnoECC0QAQ',\n",
       "  'displayed_link': 'https://news.google.com',\n",
       "  'favicon': 'https://serpapi.com/searches/67b710167f8cfafec4555f5e/images/a1e5f2d48cb5e598291b88bdfff017982ec7e93b5df255ee4f8469eace0e1e4d.png',\n",
       "  'snippet': \"Top stories · 'Dictator': Trump blasts Zelenskyy amid negotiations over Ukraine war · Hamas Hands Bodies of 4 Hostages Back to Israel.\",\n",
       "  'snippet_highlighted_words': ['Trump blasts Zelenskyy amid negotiations over Ukraine war'],\n",
       "  'source': 'Google News'},\n",
       " {'position': 7,\n",
       "  'title': 'in World',\n",
       "  'link': 'https://www.cbsnews.com/world/',\n",
       "  'redirect_link': 'https://www.google.com/url?sa=t&source=web&rct=j&opi=89978449&url=https://www.cbsnews.com/world/&ved=2ahUKEwigtIGKkdKLAxUyFFkFHZiNH_sQFnoECCwQAQ',\n",
       "  'displayed_link': 'https://www.cbsnews.com › World',\n",
       "  'favicon': 'https://serpapi.com/searches/67b710167f8cfafec4555f5e/images/a1e5f2d48cb5e598291b88bdfff0179837cd0be858cc2356d001ec913a18fba2.png',\n",
       "  'snippet': 'Science · Odds of \"city-killer\" asteroid hitting Earth in 2032 rise, then fall again, NASA says · Vaccine targeting pancreatic cancer shows promise in new study.',\n",
       "  'snippet_highlighted_words': ['Earth'],\n",
       "  'source': 'CBS News'},\n",
       " {'position': 8,\n",
       "  'title': 'NBC News - Breaking News & Top Stories - Latest World, US ...',\n",
       "  'link': 'https://www.nbcnews.com/',\n",
       "  'redirect_link': 'https://www.google.com/url?sa=t&source=web&rct=j&opi=89978449&url=https://www.nbcnews.com/&ved=2ahUKEwigtIGKkdKLAxUyFFkFHZiNH_sQFnoECDAQAQ',\n",
       "  'displayed_link': 'https://www.nbcnews.com',\n",
       "  'favicon': 'https://serpapi.com/searches/67b710167f8cfafec4555f5e/images/a1e5f2d48cb5e598291b88bdfff01798b5d03732aab24a2b17cbe61268f38999.png',\n",
       "  'snippet': 'Go to NBCNews.com for breaking news, videos, and the latest top stories in world news, business, politics, health and pop culture.',\n",
       "  'snippet_highlighted_words': ['breaking news, videos, and the latest top stories in world news'],\n",
       "  'sitelinks': {'inline': [{'title': 'World',\n",
       "     'link': 'https://www.nbcnews.com/world'},\n",
       "    {'title': 'U.S. News', 'link': 'https://www.nbcnews.com/us-news'},\n",
       "    {'title': 'Latest Stories',\n",
       "     'link': 'https://www.nbcnews.com/latest-stories'},\n",
       "    {'title': 'Nightly News',\n",
       "     'link': 'https://www.nbcnews.com/nightly-news'}]},\n",
       "  'source': 'NBC News'},\n",
       " {'position': 9,\n",
       "  'title': 'ABC News - Breaking News, Latest News and Videos',\n",
       "  'link': 'https://abcnews.go.com/',\n",
       "  'redirect_link': 'https://www.google.com/url?sa=t&source=web&rct=j&opi=89978449&url=https://abcnews.go.com/&ved=2ahUKEwigtIGKkdKLAxUyFFkFHZiNH_sQFnoECCoQAQ',\n",
       "  'displayed_link': 'https://abcnews.go.com',\n",
       "  'favicon': 'https://serpapi.com/searches/67b710167f8cfafec4555f5e/images/a1e5f2d48cb5e598291b88bdfff017980989f47bd01163143a832a9639516078.png',\n",
       "  'snippet': 'G20 meeting of foreign ministers gets underway in South Africa amid tensions with US · Ancient Egyptian royal tomb discovered, first one in over 100 years ...',\n",
       "  'snippet_highlighted_words': ['G20 meeting of foreign ministers gets underway in South Africa'],\n",
       "  'sitelinks': {'inline': [{'title': 'International',\n",
       "     'link': 'https://abcnews.go.com/International'},\n",
       "    {'title': 'World News Tonight', 'link': 'https://abcnews.go.com/WN'},\n",
       "    {'title': 'U.S.', 'link': 'https://abcnews.go.com/US'},\n",
       "    {'title': 'Live', 'link': 'https://abcnews.go.com/Live'}]},\n",
       "  'source': 'ABC News'}]"
      ]
     },
     "execution_count": 2,
     "metadata": {},
     "output_type": "execute_result"
    }
   ],
   "source": [
    "results[\"organic_results\"]"
   ]
  },
  {
   "cell_type": "markdown",
   "metadata": {},
   "source": [
    "We reformat this to extract only the most relevant information, such as the the title, source, link, and snippet. Let's use pydantic `BaseModel` to define this structure."
   ]
  },
  {
   "cell_type": "code",
   "execution_count": 4,
   "metadata": {},
   "outputs": [],
   "source": [
    "from pydantic import BaseModel\n",
    "\n",
    "class Article(BaseModel):\n",
    "    title: str\n",
    "    source: str\n",
    "    link: str\n",
    "    snippet: str\n",
    "\n",
    "    @classmethod\n",
    "    def from_serpapi_result(cls, result: dict) -> \"Article\":\n",
    "        return cls(\n",
    "            title=result[\"title\"],\n",
    "            source=result[\"source\"],\n",
    "            link=result[\"link\"],\n",
    "            snippet=result[\"snippet\"],\n",
    "        )"
   ]
  },
  {
   "cell_type": "code",
   "execution_count": 5,
   "metadata": {},
   "outputs": [],
   "source": [
    "articles = [Article.from_serpapi_result(result) for result in results[\"organic_results\"]]"
   ]
  },
  {
   "cell_type": "markdown",
   "metadata": {},
   "source": [
    "## Using Async"
   ]
  },
  {
   "cell_type": "markdown",
   "metadata": {},
   "source": [
    "All of this works, but it unfortunately is not async and the SerpAPI SDK does not support async either, so we much query the API directly using the `aiohttp` library."
   ]
  },
  {
   "cell_type": "code",
   "execution_count": 6,
   "metadata": {},
   "outputs": [
    {
     "data": {
      "text/plain": [
       "[{'position': 1,\n",
       "  'title': 'World | Latest News & Updates',\n",
       "  'link': 'https://www.bbc.com/news/world',\n",
       "  'redirect_link': 'https://www.google.com/url?sa=t&source=web&rct=j&opi=89978449&url=https://www.bbc.com/news/world&ved=2ahUKEwigtIGKkdKLAxUyFFkFHZiNH_sQFnoECBwQAQ',\n",
       "  'displayed_link': 'https://www.bbc.com › news › world',\n",
       "  'favicon': 'https://serpapi.com/searches/67b710167f8cfafec4555f5e/images/a1e5f2d48cb5e598291b88bdfff01798cff16e6d023b0c62d12765cd24da488e.png',\n",
       "  'snippet': 'Six elephants dead after being hit by train in Sri Lanka. No injuries were reported among passengers of the train, which derailed after striking the elephants.',\n",
       "  'snippet_highlighted_words': ['Six elephants dead after being hit by train in Sri Lanka'],\n",
       "  'sitelinks': {'inline': [{'title': 'BBC World',\n",
       "     'link': 'https://www.bbc.com/news/world_radio_and_tv'},\n",
       "    {'title': 'Africa', 'link': 'https://www.bbc.com/news/world/africa'},\n",
       "    {'title': 'Europe', 'link': 'https://www.bbc.com/news/world/europe'},\n",
       "    {'title': 'Middle East',\n",
       "     'link': 'https://www.bbc.com/news/world/middle_east'}]},\n",
       "  'source': 'BBC'},\n",
       " {'position': 2,\n",
       "  'title': 'World news - breaking news, video, headlines and opinion',\n",
       "  'link': 'https://www.cnn.com/world',\n",
       "  'redirect_link': 'https://www.google.com/url?sa=t&source=web&rct=j&opi=89978449&url=https://www.cnn.com/world&ved=2ahUKEwigtIGKkdKLAxUyFFkFHZiNH_sQFnoECBoQAQ',\n",
       "  'displayed_link': 'https://www.cnn.com › world',\n",
       "  'favicon': 'https://serpapi.com/searches/67b710167f8cfafec4555f5e/images/a1e5f2d48cb5e598291b88bdfff0179824154abd8473996c73264a5fae32e530.png',\n",
       "  'snippet': 'US and Russia to appoint teams to negotiate end of Ukraine war in talks that excluded Kyiv · Argentine president defends his cryptocurrency tweet after ...',\n",
       "  'snippet_highlighted_words': ['US and Russia to appoint teams to negotiate end of Ukraine war'],\n",
       "  'source': 'CNN'},\n",
       " {'position': 3,\n",
       "  'title': 'CNN: Breaking News, Latest News and Videos',\n",
       "  'link': 'https://www.cnn.com/',\n",
       "  'redirect_link': 'https://www.google.com/url?sa=t&source=web&rct=j&opi=89978449&url=https://www.cnn.com/&ved=2ahUKEwigtIGKkdKLAxUyFFkFHZiNH_sQFnoECB8QAQ',\n",
       "  'displayed_link': 'https://www.cnn.com',\n",
       "  'favicon': 'https://serpapi.com/searches/67b710167f8cfafec4555f5e/images/a1e5f2d48cb5e598291b88bdfff01798ac84368b0b93492f9b036da37cd34117.png',\n",
       "  'snippet': 'View the latest news and breaking news today for U.S., world, weather, entertainment, politics and health at CNN.com.',\n",
       "  'snippet_highlighted_words': ['breaking news today'],\n",
       "  'sitelinks': {'inline': [{'title': 'World',\n",
       "     'link': 'https://www.cnn.com/world'},\n",
       "    {'title': 'US', 'link': 'https://www.cnn.com/us'},\n",
       "    {'title': 'Politics', 'link': 'https://www.cnn.com/politics'},\n",
       "    {'title': 'Supreme Court News',\n",
       "     'link': 'https://www.cnn.com/politics/supreme-court'}]},\n",
       "  'source': 'CNN'},\n",
       " {'position': 4,\n",
       "  'title': 'World News | Latest Top Stories',\n",
       "  'link': 'https://www.reuters.com/world/',\n",
       "  'redirect_link': 'https://www.google.com/url?sa=t&source=web&rct=j&opi=89978449&url=https://www.reuters.com/world/&ved=2ahUKEwigtIGKkdKLAxUyFFkFHZiNH_sQFnoECCkQAQ',\n",
       "  'displayed_link': 'https://www.reuters.com › world',\n",
       "  'favicon': 'https://serpapi.com/searches/67b710167f8cfafec4555f5e/images/a1e5f2d48cb5e598291b88bdfff01798eca50e721d755ae60db04720906526cb.png',\n",
       "  'snippet': 'Reuters.com is your online source for the latest world news stories and current events, ensuring our readers up to date with any breaking news developments.',\n",
       "  'snippet_highlighted_words': ['Reuters.com is your online source for the latest world news stories'],\n",
       "  'sitelinks': {'inline': [{'title': 'United States',\n",
       "     'link': 'https://www.reuters.com/world/us/'},\n",
       "    {'title': 'Europe', 'link': 'https://www.reuters.com/world/europe/'},\n",
       "    {'title': 'China', 'link': 'https://www.reuters.com/world/china/'},\n",
       "    {'title': 'Middle East',\n",
       "     'link': 'https://www.reuters.com/world/middle-east/'}]},\n",
       "  'source': 'Reuters'},\n",
       " {'position': 5,\n",
       "  'title': 'Breaking News, World News and Video from Al Jazeera',\n",
       "  'link': 'https://www.aljazeera.com/',\n",
       "  'redirect_link': 'https://www.google.com/url?sa=t&source=web&rct=j&opi=89978449&url=https://www.aljazeera.com/&ved=2ahUKEwigtIGKkdKLAxUyFFkFHZiNH_sQFnoECCcQAQ',\n",
       "  'displayed_link': 'https://www.aljazeera.com',\n",
       "  'favicon': 'https://serpapi.com/searches/67b710167f8cfafec4555f5e/images/a1e5f2d48cb5e598291b88bdfff01798de4d44098c05bb33b094d324f3d4563e.png',\n",
       "  'snippet': \"Trending · Hamas hands over four captives' bodies to Israel in Gaza's Khan Younis · Israeli army kills 3 Palestinians in attack on West Bank refugee camp ...\",\n",
       "  'snippet_highlighted_words': [\"Hamas hands over four captives' bodies to Israel in Gaza's Khan Younis\"],\n",
       "  'source': 'Al Jazeera'},\n",
       " {'position': 6,\n",
       "  'title': 'Google News - Home - For you',\n",
       "  'link': 'https://news.google.com/',\n",
       "  'redirect_link': 'https://www.google.com/url?sa=t&source=web&rct=j&opi=89978449&url=https://news.google.com/&ved=2ahUKEwigtIGKkdKLAxUyFFkFHZiNH_sQFnoECC0QAQ',\n",
       "  'displayed_link': 'https://news.google.com',\n",
       "  'favicon': 'https://serpapi.com/searches/67b710167f8cfafec4555f5e/images/a1e5f2d48cb5e598291b88bdfff017982ec7e93b5df255ee4f8469eace0e1e4d.png',\n",
       "  'snippet': \"Top stories · 'Dictator': Trump blasts Zelenskyy amid negotiations over Ukraine war · Hamas Hands Bodies of 4 Hostages Back to Israel.\",\n",
       "  'snippet_highlighted_words': ['Trump blasts Zelenskyy amid negotiations over Ukraine war'],\n",
       "  'source': 'Google News'},\n",
       " {'position': 7,\n",
       "  'title': 'in World',\n",
       "  'link': 'https://www.cbsnews.com/world/',\n",
       "  'redirect_link': 'https://www.google.com/url?sa=t&source=web&rct=j&opi=89978449&url=https://www.cbsnews.com/world/&ved=2ahUKEwigtIGKkdKLAxUyFFkFHZiNH_sQFnoECCwQAQ',\n",
       "  'displayed_link': 'https://www.cbsnews.com › World',\n",
       "  'favicon': 'https://serpapi.com/searches/67b710167f8cfafec4555f5e/images/a1e5f2d48cb5e598291b88bdfff0179837cd0be858cc2356d001ec913a18fba2.png',\n",
       "  'snippet': 'Science · Odds of \"city-killer\" asteroid hitting Earth in 2032 rise, then fall again, NASA says · Vaccine targeting pancreatic cancer shows promise in new study.',\n",
       "  'snippet_highlighted_words': ['Earth'],\n",
       "  'source': 'CBS News'},\n",
       " {'position': 8,\n",
       "  'title': 'NBC News - Breaking News & Top Stories - Latest World, US ...',\n",
       "  'link': 'https://www.nbcnews.com/',\n",
       "  'redirect_link': 'https://www.google.com/url?sa=t&source=web&rct=j&opi=89978449&url=https://www.nbcnews.com/&ved=2ahUKEwigtIGKkdKLAxUyFFkFHZiNH_sQFnoECDAQAQ',\n",
       "  'displayed_link': 'https://www.nbcnews.com',\n",
       "  'favicon': 'https://serpapi.com/searches/67b710167f8cfafec4555f5e/images/a1e5f2d48cb5e598291b88bdfff01798b5d03732aab24a2b17cbe61268f38999.png',\n",
       "  'snippet': 'Go to NBCNews.com for breaking news, videos, and the latest top stories in world news, business, politics, health and pop culture.',\n",
       "  'snippet_highlighted_words': ['breaking news, videos, and the latest top stories in world news'],\n",
       "  'sitelinks': {'inline': [{'title': 'World',\n",
       "     'link': 'https://www.nbcnews.com/world'},\n",
       "    {'title': 'U.S. News', 'link': 'https://www.nbcnews.com/us-news'},\n",
       "    {'title': 'Latest Stories',\n",
       "     'link': 'https://www.nbcnews.com/latest-stories'},\n",
       "    {'title': 'Nightly News',\n",
       "     'link': 'https://www.nbcnews.com/nightly-news'}]},\n",
       "  'source': 'NBC News'},\n",
       " {'position': 9,\n",
       "  'title': 'ABC News - Breaking News, Latest News and Videos',\n",
       "  'link': 'https://abcnews.go.com/',\n",
       "  'redirect_link': 'https://www.google.com/url?sa=t&source=web&rct=j&opi=89978449&url=https://abcnews.go.com/&ved=2ahUKEwigtIGKkdKLAxUyFFkFHZiNH_sQFnoECCoQAQ',\n",
       "  'displayed_link': 'https://abcnews.go.com',\n",
       "  'favicon': 'https://serpapi.com/searches/67b710167f8cfafec4555f5e/images/a1e5f2d48cb5e598291b88bdfff017980989f47bd01163143a832a9639516078.png',\n",
       "  'snippet': 'G20 meeting of foreign ministers gets underway in South Africa amid tensions with US · Ancient Egyptian royal tomb discovered, first one in over 100 years ...',\n",
       "  'snippet_highlighted_words': ['G20 meeting of foreign ministers gets underway in South Africa'],\n",
       "  'sitelinks': {'inline': [{'title': 'International',\n",
       "     'link': 'https://abcnews.go.com/International'},\n",
       "    {'title': 'World News Tonight', 'link': 'https://abcnews.go.com/WN'},\n",
       "    {'title': 'U.S.', 'link': 'https://abcnews.go.com/US'},\n",
       "    {'title': 'Live', 'link': 'https://abcnews.go.com/Live'}]},\n",
       "  'source': 'ABC News'}]"
      ]
     },
     "execution_count": 6,
     "metadata": {},
     "output_type": "execute_result"
    }
   ],
   "source": [
    "import aiohttp\n",
    "\n",
    "async with aiohttp.ClientSession() as session:\n",
    "    async with session.get(\n",
    "        \"https://serpapi.com/search\",\n",
    "        params=params\n",
    "    ) as response:\n",
    "        results = await response.json()\n",
    "\n",
    "results[\"organic_results\"]"
   ]
  },
  {
   "cell_type": "markdown",
   "metadata": {},
   "source": [
    "With that, we have all we need to build a fully async serpapi tool."
   ]
  },
  {
   "cell_type": "code",
   "execution_count": 7,
   "metadata": {},
   "outputs": [],
   "source": [
    "from langchain_core.tools import tool\n",
    "\n",
    "@tool\n",
    "async def serpapi(query: str) -> list[Article]:\n",
    "    \"\"\"Use this tool to search the web.\"\"\"\n",
    "    params = {\n",
    "        \"api_key\": SERPAPI_API_KEY,\n",
    "        \"engine\": \"google\",\n",
    "        \"q\": query,\n",
    "    }\n",
    "    async with aiohttp.ClientSession() as session:\n",
    "        async with session.get(\n",
    "            \"https://serpapi.com/search\",\n",
    "            params=params\n",
    "        ) as response:\n",
    "            results = await response.json()\n",
    "    return [Article.from_serpapi_result(result) for result in results[\"organic_results\"]]"
   ]
  },
  {
   "cell_type": "markdown",
   "metadata": {},
   "source": [
    "Note that because this tool is async, we cannot use `tool.func` to call it as before:"
   ]
  },
  {
   "cell_type": "code",
   "execution_count": 14,
   "metadata": {},
   "outputs": [],
   "source": [
    "serpapi.func"
   ]
  },
  {
   "cell_type": "markdown",
   "metadata": {},
   "source": [
    "Instead, we use `tool.coroutine`:"
   ]
  },
  {
   "cell_type": "code",
   "execution_count": 12,
   "metadata": {},
   "outputs": [
    {
     "data": {
      "text/plain": [
       "<function __main__.serpapi(query: str) -> list[__main__.Article]>"
      ]
     },
     "execution_count": 12,
     "metadata": {},
     "output_type": "execute_result"
    }
   ],
   "source": [
    "serpapi.coroutine"
   ]
  },
  {
   "cell_type": "markdown",
   "metadata": {},
   "source": [
    "---"
   ]
  }
 ],
 "metadata": {
  "kernelspec": {
   "display_name": ".venv",
   "language": "python",
   "name": "python3"
  },
  "language_info": {
   "codemirror_mode": {
    "name": "ipython",
    "version": 3
   },
   "file_extension": ".py",
   "mimetype": "text/x-python",
   "name": "python",
   "nbconvert_exporter": "python",
   "pygments_lexer": "ipython3",
   "version": "3.12.7"
  }
 },
 "nbformat": 4,
 "nbformat_minor": 2
}
