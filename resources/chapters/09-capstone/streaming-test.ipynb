{
 "cells": [
  {
   "cell_type": "markdown",
   "metadata": {},
   "source": [
    "## Test Streaming API"
   ]
  },
  {
   "cell_type": "markdown",
   "metadata": {},
   "source": [
    "This notebook covers hitting the API `/invoke` endpoint and streaming the code to our terminal."
   ]
  },
  {
   "cell_type": "code",
   "execution_count": 1,
   "metadata": {},
   "outputs": [],
   "source": [
    "import requests\n",
    "\n",
    "def get_stream(query: str):\n",
    "    localsession = requests.Session()\n",
    "    with localsession.post(\n",
    "        f\"http://localhost:8000/invoke?content={query}\",\n",
    "        stream=True,\n",
    "        headers={\"Accept\": \"text/event-stream\"}\n",
    "    ) as response:\n",
    "        for token in response.iter_content(decode_unicode=True):\n",
    "            if token:  # Skip empty lines\n",
    "                print(token, end=\"\", flush=True)"
   ]
  },
  {
   "cell_type": "markdown",
   "metadata": {},
   "source": [
    "We can test with the simple `add` tool first:"
   ]
  },
  {
   "cell_type": "code",
   "execution_count": 2,
   "metadata": {},
   "outputs": [
    {
     "name": "stdout",
     "output_type": "stream",
     "text": [
      "<step><step_name>multiply</step_name>{\"x\":5,\"y\":5}</step><step><step_name>final_answer</step_name>{\"answer\":\"The result of 5 multiplied by 5 is 25.\",\"tools_used\":[\"functions.multiply\"]}"
     ]
    }
   ],
   "source": [
    "get_stream(\"what is 5+5\")"
   ]
  },
  {
   "cell_type": "markdown",
   "metadata": {},
   "source": [
    "Now let's try the `serpapi` tool:"
   ]
  },
  {
   "cell_type": "code",
   "execution_count": 3,
   "metadata": {},
   "outputs": [
    {
     "name": "stdout",
     "output_type": "stream",
     "text": [
      "<step><step_name>serpapi</step_name>{\"query\":\"latest world news\"}</step><step><step_name>final_answer</step_name>{\"answer\":\"Here are some of the latest news highlights from around the world:\\n\\n1. **BBC**: Get all the latest news, live updates, and content about the World from across the BBC. [Read more](https://www.bbc.com/news/world)\\n\\n2. **CNN**: Live-fire drills by 'extremely capable' Chinese warships are causing concern in New Zealand and Australia. [Read more](https://www.cnn.com/world)\\n\\n3. **Reuters**: Europeans have won in a UN clash with the US over rival Ukraine resolutions, and the EU and Israel have resumed dialogue focusing on Gaza's future. [Read more](https://www.reuters.com/world/)\\n\\n4. **NBC News**: Trump and France's Emmanuel Macron discussed a Russia-Ukraine peace deal. [Read more](https://www.nbcnews.com/)\\n\\n5. **Al Jazeera**: A Hamas official claims Netanyahu is 'intentionally sabotaging' the Gaza ceasefire. [Read more](https://www.aljazeera.com/)\\n\\n6. **The Guardian**: A missing British businessman's body was found in a Kenyan forest. [Read more](https://www.theguardian.com/world)\\n\\nFor more detailed updates, you can visit these news sources directly.\",\"tools_used\":[\"serpapi\"]}"
     ]
    }
   ],
   "source": [
    "get_stream(\"tell me about the latest news in the world\")"
   ]
  },
  {
   "cell_type": "code",
   "execution_count": 4,
   "metadata": {},
   "outputs": [
    {
     "name": "stdout",
     "output_type": "stream",
     "text": [
      "<step><step_name>serpapi</step_name>{\"query\": \"current temperature in Oslo\"}<step><step_name>multiply</step_name>{\"x\": 5, \"y\": 5}</step><step><step_name>final_answer</step_name>{\"answer\":\"The current temperature in Oslo is 36°F (approximately 2°C). The result of 5 multiplied by 5 is 25. Therefore, when you multiply the temperature (36) by 25, you get 900.\",\"tools_used\":[\"serpapi\",\"functions.multiply\"]}"
     ]
    }
   ],
   "source": [
    "get_stream(\n",
    "    \"how cold is it in oslo right now, what is 5*5, and what \"\n",
    "    \"do you get when multiplying those two numbers together?\"\n",
    ")"
   ]
  },
  {
   "cell_type": "code",
   "execution_count": 5,
   "metadata": {},
   "outputs": [
    {
     "name": "stdout",
     "output_type": "stream",
     "text": [
      "<step><step_name>serpapi</step_name>{\"query\": \"current date and time in Dubai\"}<step><step_name>serpapi</step_name>{\"query\": \"current date and time in Tokyo\"}<step><step_name>serpapi</step_name>{\"query\": \"current date and time in Berlin\"}</step><step><step_name>final_answer</step_name>{\"answer\": \"Current date and time in Dubai: 10:00 PM, February 23, 2025. Current date and time in Tokyo: 11:24 PM, February 23, 2025. Current date and time in Berlin: 11:24 PM, February 23, 2025.\", \"tools_used\": [\"serpapi\"]}<step><step_name>final_answer</step_name>{\"answer\": \"Current date and time in Dubai: 10:00 PM, February 23, 2025. Current date and time in Tokyo: 11:24 PM, February 23, 2025. Current date and time in Berlin: 11:24 PM, February 23, 2025.\", \"tools_used\": [\"serpapi\"]}"
     ]
    }
   ],
   "source": [
    "get_stream(\"what is the current date and time in these places: dubai, tokyo, berlin?\")"
   ]
  },
  {
   "cell_type": "markdown",
   "metadata": {},
   "source": [
    "---"
   ]
  }
 ],
 "metadata": {
  "kernelspec": {
   "display_name": ".venv",
   "language": "python",
   "name": "python3"
  },
  "language_info": {
   "codemirror_mode": {
    "name": "ipython",
    "version": 3
   },
   "file_extension": ".py",
   "mimetype": "text/x-python",
   "name": "python",
   "nbconvert_exporter": "python",
   "pygments_lexer": "ipython3",
   "version": "3.12.7"
  }
 },
 "nbformat": 4,
 "nbformat_minor": 2
}
